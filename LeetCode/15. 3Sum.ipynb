{
 "cells": [
  {
   "cell_type": "code",
   "execution_count": null,
   "metadata": {},
   "outputs": [],
   "source": [
    "class Solution:\n",
    "    def threeSum(self, nums: List[int]) -> List[List[int]]:\n",
    "        if len(nums)<3: \n",
    "            return []\n",
    "\n",
    "        nums.sort()\n",
    "        target= -nums[0]-1\n",
    "        ans= []\n",
    "\n",
    "        for idx, item in enumerate(nums[:-2]):\n",
    "            if item==-target:\n",
    "                continue  # выбрасываем одинаковые случаи \n",
    "\n",
    "            l, r= idx+1, len(nums)-1\n",
    "            target= -item \n",
    "            while l<r:\n",
    "                if nums[l]+nums[r]>target:\n",
    "                    r-= 1\n",
    "                elif nums[l]+nums[r]<target:\n",
    "                    l+= 1\n",
    "                else:\n",
    "                    ans.append([item, nums[l], nums[r]])\n",
    "                    l+= 1\n",
    "                    r-= 1\n",
    "                \n",
    "                    while l<r and nums[l]==nums[l-1]:\n",
    "                        l+= 1 \n",
    "                    \n",
    "                    while l<r and nums[r]==nums[r+1]:\n",
    "                        r-= 1\n",
    "        return ans"
   ]
  }
 ],
 "metadata": {
  "language_info": {
   "name": "python"
  },
  "orig_nbformat": 4
 },
 "nbformat": 4,
 "nbformat_minor": 2
}
