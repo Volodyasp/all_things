{
 "cells": [
  {
   "cell_type": "code",
   "execution_count": null,
   "metadata": {},
   "outputs": [],
   "source": [
    "class Solution:\n",
    "    def function(self, letter, dct, c, append= True):\n",
    "        append= (-1 if append else 1)\n",
    "    \n",
    "        if letter in dct:\n",
    "            dct[letter]+= append\n",
    "            if dct[letter]== 0:\n",
    "                c+= 1\n",
    "            elif dct[letter]== append:\n",
    "                c-= 1\n",
    "        return c\n",
    "\n",
    "\n",
    "    def checkInclusion(self, s1: str, s2: str) -> bool:\n",
    "        if len(s2)<len(s1):\n",
    "            return False\n",
    "\n",
    "        dct= {}\n",
    "        for letter in s1:\n",
    "            if letter not in dct:\n",
    "                dct[letter]=0 \n",
    "            dct[letter]+= 1\n",
    "\n",
    "        count, c= len(dct), 0\n",
    "        l= 0\n",
    "        for r, letter in enumerate(s2):\n",
    "            c= self.function(letter, dct, c, append= True)\n",
    "            if r>=len(s1)+l:\n",
    "                letter= s2[l]\n",
    "                c= self.function(letter, dct, c, append= False)\n",
    "                l+= 1\n",
    "\n",
    "            if c==count:\n",
    "                return True\n",
    "        return False\n",
    "            \n",
    "            \n"
   ]
  }
 ],
 "metadata": {
  "language_info": {
   "name": "python"
  },
  "orig_nbformat": 4
 },
 "nbformat": 4,
 "nbformat_minor": 2
}
