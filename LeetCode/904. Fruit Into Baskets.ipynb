{
 "cells": [
  {
   "cell_type": "code",
   "execution_count": null,
   "metadata": {},
   "outputs": [],
   "source": [
    "class Solution:\n",
    "    def totalFruit(self, fruits: List[int]) -> int:\n",
    "        if len(fruits)<=2: \n",
    "            return len(fruits)\n",
    "        dct= [0 for _ in fruits]\n",
    "        l, counter= 0, 0\n",
    "\n",
    "        for r, item in enumerate(fruits):\n",
    "            dct[item]+= 1\n",
    "            if dct[item]== 1: counter+= 1\n",
    "\n",
    "            if counter>2:\n",
    "                dct[fruits[l]]-= 1\n",
    "                if dct[fruits[l]]== 0: counter-= 1\n",
    "                l+= 1\n",
    "\n",
    "        return r-l+1\n"
   ]
  }
 ],
 "metadata": {
  "kernelspec": {
   "display_name": "Python 3",
   "language": "python",
   "name": "python3"
  },
  "language_info": {
   "codemirror_mode": {
    "name": "ipython",
    "version": 3
   },
   "file_extension": ".py",
   "mimetype": "text/x-python",
   "name": "python",
   "nbconvert_exporter": "python",
   "pygments_lexer": "ipython3",
   "version": "3.9.13 (tags/v3.9.13:6de2ca5, May 17 2022, 16:36:42) [MSC v.1929 64 bit (AMD64)]"
  },
  "orig_nbformat": 4,
  "vscode": {
   "interpreter": {
    "hash": "690a9cd710bfe942c391f90ef8534bcd8164e71864b086e08c2a2bf19a5ccfe2"
   }
  }
 },
 "nbformat": 4,
 "nbformat_minor": 2
}
