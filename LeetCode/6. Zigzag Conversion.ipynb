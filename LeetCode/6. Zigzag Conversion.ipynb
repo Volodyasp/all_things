{
 "cells": [
  {
   "cell_type": "code",
   "execution_count": null,
   "metadata": {},
   "outputs": [],
   "source": [
    "class Solution:\n",
    "    def convert(self, s: str, numRows: int) -> str:\n",
    "        delta, x, y= 2*numRows-2, 0, 0 \n",
    "        checker= False\n",
    "        if delta==0: return s\n",
    "        ans= [0 for _ in s]\n",
    "\n",
    "        for idx in range(len(s)):\n",
    "            try:\n",
    "                if checker and x>0 and y!=0 and y+1!= numRows:\n",
    "                    item= s[y+x*delta-2*y]\n",
    "                    checker= False\n",
    "                else:\n",
    "                    item= s[y+x*delta]\n",
    "                    x+= 1\n",
    "                    checker= True\n",
    "            except:\n",
    "                y+= 1\n",
    "                x, checker= 1, True\n",
    "                item= s[y]\n",
    "\n",
    "            ans[idx]= item\n",
    "        \n",
    "        return ''.join(ans)\n",
    "    "
   ]
  }
 ],
 "metadata": {
  "language_info": {
   "name": "python"
  },
  "orig_nbformat": 4
 },
 "nbformat": 4,
 "nbformat_minor": 2
}
