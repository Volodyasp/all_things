{
 "cells": [
  {
   "cell_type": "code",
   "execution_count": null,
   "metadata": {},
   "outputs": [],
   "source": [
    "class Solution:\n",
    "    def __init__(self):\n",
    "        self.total_fuel= 0\n",
    "\n",
    "    def DFS(self, node, par, adj, seats):\n",
    "        ppl= 1\n",
    "        for child in adj[node]:\n",
    "            if child!= par:\n",
    "                ppl+= self.DFS(child, node, adj, seats)\n",
    "        \n",
    "        if node!= 0:\n",
    "            self.total_fuel+= ppl // seats + (1 if ppl % seats>0 else 0)\n",
    "\n",
    "        return ppl\n",
    "\n",
    "    def minimumFuelCost(self, roads: List[List[int]], seats: int) -> int:\n",
    "        adj= [[] for _ in range(len(roads)+1)]\n",
    "\n",
    "        for item in roads:\n",
    "            adj[item[0]].append(item[1])\n",
    "            adj[item[1]].append(item[0])\n",
    "\n",
    "        self.DFS(0, -1, adj, seats)\n",
    "        return self.total_fuel\n",
    "        "
   ]
  }
 ],
 "metadata": {
  "language_info": {
   "name": "python"
  },
  "orig_nbformat": 4
 },
 "nbformat": 4,
 "nbformat_minor": 2
}
