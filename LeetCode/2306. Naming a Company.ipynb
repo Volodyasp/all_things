{
 "cells": [
  {
   "cell_type": "code",
   "execution_count": null,
   "metadata": {},
   "outputs": [],
   "source": [
    "class Solution:\n",
    "    def distinctNames(self, ideas: List[str]) -> int:\n",
    "        dct= {}\n",
    "        for item in ideas:\n",
    "            if item[0] not in dct:\n",
    "                dct[item[0]]= set()\n",
    "            dct[item[0]].add(item[1:])\n",
    "        if len(dct)<= 1: return 0\n",
    "\n",
    "        ans, keys= 0, list(dct.keys())\n",
    "        for i, letter1 in enumerate(keys):\n",
    "            for j in range(i+1, len(keys)):\n",
    "                letter2= keys[j]\n",
    "                similar= len(dct[letter1] & dct[letter2])\n",
    "                count= (len(dct[letter1])-similar)*(len(dct[letter2])-similar)\n",
    "                ans+= 2*count\n",
    "                \n",
    "        return ans"
   ]
  }
 ],
 "metadata": {
  "language_info": {
   "name": "python"
  },
  "orig_nbformat": 4
 },
 "nbformat": 4,
 "nbformat_minor": 2
}
