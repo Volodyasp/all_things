{
 "cells": [
  {
   "cell_type": "code",
   "execution_count": null,
   "metadata": {},
   "outputs": [],
   "source": [
    "class Solution:\n",
    "    def tribonacci(self, n: int) -> int:\n",
    "        n0, n1, n2= 0, 1, 1\n",
    "        if n < 3: return (n+1)//2\n",
    "\n",
    "        for i in range(3, n+1, 1):\n",
    "            n0, n1, n2= n1, n2, n0+n1+n2\n",
    "\n",
    "        return n2"
   ]
  },
  {
   "attachments": {},
   "cell_type": "markdown",
   "metadata": {},
   "source": [
    "Долго через рекурсию"
   ]
  },
  {
   "cell_type": "code",
   "execution_count": null,
   "metadata": {},
   "outputs": [],
   "source": [
    "class Solution:\n",
    "    def tribonacci(self, n: int) -> int:\n",
    "        if n==0:\n",
    "            return 0\n",
    "        elif n==1:\n",
    "            return 1\n",
    "        elif n==2:\n",
    "            return 1\n",
    "\n",
    "        return self.tribonacci(n-3)+self.tribonacci(n-2)+self.tribonacci(n-1)"
   ]
  }
 ],
 "metadata": {
  "language_info": {
   "name": "python"
  },
  "orig_nbformat": 4
 },
 "nbformat": 4,
 "nbformat_minor": 2
}
