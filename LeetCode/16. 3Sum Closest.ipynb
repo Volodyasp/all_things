{
 "cells": [
  {
   "cell_type": "code",
   "execution_count": null,
   "metadata": {},
   "outputs": [],
   "source": [
    "class Solution:\n",
    "    def threeSumClosest(self, nums: List[int], target: int) -> int:\n",
    "        if len(nums)<3:\n",
    "            return -1\n",
    "\n",
    "        nums.sort()\n",
    "        ans= max(abs(nums[0]-target), abs(nums[-1]-target))*3\n",
    "        sm= sum(nums[:3])\n",
    "        \n",
    "        for idx, item in enumerate(nums[:-2]):\n",
    "            l, r= idx+1, len(nums)-1\n",
    "            value= target-item\n",
    "            \n",
    "            while l<r:\n",
    "                if ans>abs(value-nums[l]-nums[r]):\n",
    "                    sm= item+nums[l]+nums[r]\n",
    "                    ans= abs(value-nums[l]-nums[r])\n",
    "\n",
    "                if nums[l]+nums[r]>value:\n",
    "                    r-=1 \n",
    "                elif nums[l]+nums[r]<value:\n",
    "                    l+=1\n",
    "                else:\n",
    "                    return sm\n",
    "        return sm"
   ]
  }
 ],
 "metadata": {
  "language_info": {
   "name": "python"
  },
  "orig_nbformat": 4
 },
 "nbformat": 4,
 "nbformat_minor": 2
}
