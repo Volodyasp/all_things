{
 "cells": [
  {
   "cell_type": "code",
   "execution_count": null,
   "metadata": {},
   "outputs": [],
   "source": [
    "class Solution:\n",
    "    def bestTeamScore(self, scores: List[int], ages: List[int]) -> int:\n",
    "        AgesScoresList= sorted([item for item in zip(ages, scores)])\n",
    "        dp= [item[1] for item in AgesScoresList]\n",
    "        answer= max(dp)\n",
    "\n",
    "        for i in range(len(AgesScoresList)):\n",
    "            for j in range(i-1, -1, -1):\n",
    "                if AgesScoresList[i][1]>= AgesScoresList[j][1]:\n",
    "                    dp[i]= max(dp[i], AgesScoresList[i][1]+dp[j])\n",
    "            answer= max(answer, dp[i])\n",
    "        return answer"
   ]
  }
 ],
 "metadata": {
  "kernelspec": {
   "display_name": "Python 3",
   "language": "python",
   "name": "python3"
  },
  "language_info": {
   "codemirror_mode": {
    "name": "ipython",
    "version": 3
   },
   "file_extension": ".py",
   "mimetype": "text/x-python",
   "name": "python",
   "nbconvert_exporter": "python",
   "pygments_lexer": "ipython3",
   "version": "3.9.13"
  },
  "orig_nbformat": 4,
  "vscode": {
   "interpreter": {
    "hash": "690a9cd710bfe942c391f90ef8534bcd8164e71864b086e08c2a2bf19a5ccfe2"
   }
  }
 },
 "nbformat": 4,
 "nbformat_minor": 2
}
