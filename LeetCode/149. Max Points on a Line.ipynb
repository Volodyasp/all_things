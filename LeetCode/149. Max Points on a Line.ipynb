{
 "cells": [
  {
   "cell_type": "code",
   "execution_count": null,
   "metadata": {},
   "outputs": [],
   "source": [
    "class Solution:\n",
    "    def calculate(self, point_1, point_2):\n",
    "        x1, y1= point_1\n",
    "        x2, y2= point_2\n",
    "        if x1!= x2:\n",
    "            k= (y1-y2)/(x1-x2)\n",
    "            return k, y1-k*x1\n",
    "        return float('inf'), x1 \n",
    "\n",
    "    def maxPoints(self, points: List[List[int]]) -> int:\n",
    "        mx= 1\n",
    "        if len(points)>1:\n",
    "            for i, point_1 in enumerate(points[:-1]):\n",
    "                dct= {}\n",
    "                for j, point_2 in enumerate(points[i+1:]):\n",
    "                    k, b= self.calculate(point_1, point_2)\n",
    "                    if (k, b) not in dct:\n",
    "                        dct[(k, b)]= 1\n",
    "                    dct[(k, b)]+= 1\n",
    "                    mx= max(mx, dct[(k, b)])\n",
    "        return mx"
   ]
  }
 ],
 "metadata": {
  "kernelspec": {
   "display_name": "Python 3",
   "language": "python",
   "name": "python3"
  },
  "language_info": {
   "codemirror_mode": {
    "name": "ipython",
    "version": 3
   },
   "file_extension": ".py",
   "mimetype": "text/x-python",
   "name": "python",
   "nbconvert_exporter": "python",
   "pygments_lexer": "ipython3",
   "version": "3.9.13 (tags/v3.9.13:6de2ca5, May 17 2022, 16:36:42) [MSC v.1929 64 bit (AMD64)]"
  },
  "orig_nbformat": 4,
  "vscode": {
   "interpreter": {
    "hash": "690a9cd710bfe942c391f90ef8534bcd8164e71864b086e08c2a2bf19a5ccfe2"
   }
  }
 },
 "nbformat": 4,
 "nbformat_minor": 2
}
