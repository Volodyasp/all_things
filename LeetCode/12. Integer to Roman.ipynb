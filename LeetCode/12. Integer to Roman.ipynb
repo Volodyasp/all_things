{
 "cells": [
  {
   "cell_type": "code",
   "execution_count": null,
   "metadata": {},
   "outputs": [],
   "source": [
    "class Solution:\n",
    "    def intToRoman(self, num: int) -> str:\n",
    "        dct= {1: [\"I\",'X','C','M'], 4:['IV', 'XL', 'CD'], 5:['V', 'L', 'D'], 9:['IX', 'XC', 'CM']}\n",
    "        order= [1, 4, 5, 9]\n",
    "        ans= []\n",
    "        \n",
    "        while num>0:\n",
    "            item, num= num % 10, num // 10\n",
    "            if 1<= item< 4:\n",
    "                ans+= dct[1][order]*item\n",
    "            elif 5<= item< 9:\n",
    "                ans+= dct[1][order]*(item-5)+dct[5][order]\n",
    "            elif item==4 or item==9:\n",
    "                ans+= [dct[item][order]]\n",
    "                \n",
    "            order+= 1\n",
    "\n",
    "        return ''.join(ans[::-1])"
   ]
  }
 ],
 "metadata": {
  "language_info": {
   "name": "python"
  },
  "orig_nbformat": 4
 },
 "nbformat": 4,
 "nbformat_minor": 2
}
