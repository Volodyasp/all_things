{
 "cells": [
  {
   "cell_type": "code",
   "execution_count": null,
   "metadata": {},
   "outputs": [],
   "source": [
    "class Solution:\n",
    "    def findAnagrams(self, s: str, p: str) -> List[int]:\n",
    "        dct= {}\n",
    "        ans= []\n",
    "        for letter in p:\n",
    "            if letter not in dct:\n",
    "                dct[letter]= 0\n",
    "            dct[letter]+= 1\n",
    "        l, count, cc=0, len(dct), 0\n",
    "\n",
    "        for r, letter in enumerate(s):\n",
    "            if letter in dct:\n",
    "                dct[letter]-= 1\n",
    "            \n",
    "                if dct[letter]== 0:\n",
    "                    cc+= 1\n",
    "                elif dct[letter]== -1:\n",
    "                    cc-= 1\n",
    "            \n",
    "            if r>= len(p):\n",
    "                letter= s[l]\n",
    "                if letter in dct:\n",
    "                    dct[letter]+= 1\n",
    "                \n",
    "                    if dct[letter]==0:\n",
    "                        cc+=1\n",
    "                    elif dct[letter]==1:\n",
    "                        cc-=1\n",
    "                l+=1\n",
    "\n",
    "            if cc==count:\n",
    "                ans.append(l)\n",
    "            \n",
    "        return ans"
   ]
  }
 ],
 "metadata": {
  "language_info": {
   "name": "python"
  },
  "orig_nbformat": 4
 },
 "nbformat": 4,
 "nbformat_minor": 2
}
