{
 "cells": [
  {
   "cell_type": "code",
   "execution_count": null,
   "metadata": {},
   "outputs": [],
   "source": [
    "class Solution:\n",
    "    def compress(self, chars: List[str]) -> int:\n",
    "        if not chars: \n",
    "            return chars\n",
    "        letter, counter = chars[0], 0\n",
    "        L = 0\n",
    "        for R, item in enumerate(chars):\n",
    "            if item == letter: \n",
    "                counter += 1\n",
    "            else:\n",
    "                chars[L] = letter\n",
    "                L += 1\n",
    "                if counter > 1:\n",
    "                    for num in str(counter):\n",
    "                        chars[L] = num\n",
    "                        L += 1\n",
    "                letter = item\n",
    "                counter = 1\n",
    "        chars[L] = letter\n",
    "        L += 1\n",
    "        if counter > 1:\n",
    "            for num in str(counter):\n",
    "                chars[L] = num\n",
    "                L += 1\n",
    "        return L"
   ]
  }
 ],
 "metadata": {
  "kernelspec": {
   "display_name": "Python 3",
   "language": "python",
   "name": "python3"
  },
  "language_info": {
   "codemirror_mode": {
    "name": "ipython",
    "version": 3
   },
   "file_extension": ".py",
   "mimetype": "text/x-python",
   "name": "python",
   "nbconvert_exporter": "python",
   "pygments_lexer": "ipython3",
   "version": "3.9.13"
  },
  "orig_nbformat": 4,
  "vscode": {
   "interpreter": {
    "hash": "690a9cd710bfe942c391f90ef8534bcd8164e71864b086e08c2a2bf19a5ccfe2"
   }
  }
 },
 "nbformat": 4,
 "nbformat_minor": 2
}
