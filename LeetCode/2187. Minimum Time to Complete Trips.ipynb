{
 "cells": [
  {
   "cell_type": "code",
   "execution_count": null,
   "metadata": {},
   "outputs": [],
   "source": [
    "class Solution:\n",
    "    def schedule(self, exactly_time, time, totalTrips):\n",
    "        trips = sum(exactly_time // item for item in time)\n",
    "        return trips >= totalTrips\n",
    "\n",
    "\n",
    "    def minimumTime(self, time: List[int], totalTrips: int) -> int:\n",
    "        L, R = 1, time[-1] * totalTrips\n",
    "\n",
    "        while L < R:\n",
    "            exactly_time = (L + R) // 2\n",
    "            if self.schedule(exactly_time, time, totalTrips):\n",
    "                R = exactly_time\n",
    "            else:\n",
    "                L = exactly_time + 1\n",
    "\n",
    "        return L"
   ]
  }
 ],
 "metadata": {
  "language_info": {
   "name": "python"
  },
  "orig_nbformat": 4
 },
 "nbformat": 4,
 "nbformat_minor": 2
}
