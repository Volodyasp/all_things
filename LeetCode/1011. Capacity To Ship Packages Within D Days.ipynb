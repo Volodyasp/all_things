{
 "cells": [
  {
   "cell_type": "code",
   "execution_count": null,
   "metadata": {},
   "outputs": [],
   "source": [
    "class Solution:\n",
    "    def check(self, capacity, weights, days):\n",
    "        cargo, d= 0, 1\n",
    "     \n",
    "        for item in weights:\n",
    "            cargo+= item\n",
    "            if cargo > capacity:\n",
    "                cargo= item\n",
    "                d+= 1\n",
    "\n",
    "        return d <= days\n",
    "\n",
    "    def shipWithinDays(self, weights: List[int], days: int) -> int:\n",
    "        l, r= max(weights), sum(weights)\n",
    "\n",
    "        while l < r:\n",
    "            mid= (l + r) // 2\n",
    "\n",
    "            if self.check(mid, weights, days):\n",
    "                r= mid\n",
    "            else:\n",
    "                l= mid + 1\n",
    "        \n",
    "        return l"
   ]
  },
  {
   "cell_type": "code",
   "execution_count": 4,
   "metadata": {},
   "outputs": [
    {
     "data": {
      "text/plain": [
       "2"
      ]
     },
     "execution_count": 4,
     "metadata": {},
     "output_type": "execute_result"
    }
   ],
   "source": [
    "import math\n",
    "math.ceil(10/7)"
   ]
  }
 ],
 "metadata": {
  "kernelspec": {
   "display_name": "Python 3",
   "language": "python",
   "name": "python3"
  },
  "language_info": {
   "codemirror_mode": {
    "name": "ipython",
    "version": 3
   },
   "file_extension": ".py",
   "mimetype": "text/x-python",
   "name": "python",
   "nbconvert_exporter": "python",
   "pygments_lexer": "ipython3",
   "version": "3.9.13"
  },
  "orig_nbformat": 4,
  "vscode": {
   "interpreter": {
    "hash": "690a9cd710bfe942c391f90ef8534bcd8164e71864b086e08c2a2bf19a5ccfe2"
   }
  }
 },
 "nbformat": 4,
 "nbformat_minor": 2
}
