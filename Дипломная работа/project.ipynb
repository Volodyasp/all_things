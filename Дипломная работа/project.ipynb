{
 "cells": [
  {
   "cell_type": "markdown",
   "metadata": {},
   "source": [
    "# Моделирование многочастичной системы\n",
    "## Написание программы"
   ]
  },
  {
   "cell_type": "code",
   "execution_count": 1,
   "metadata": {},
   "outputs": [],
   "source": [
    "import numpy as np \n",
    "\n",
    "from sklearn.neighbors import NearestNeighbors\n",
    "\n",
    "import matplotlib\n",
    "from matplotlib import pyplot as plt\n",
    "from mpl_toolkits.mplot3d import axes3d\n",
    "from matplotlib import animation\n",
    "matplotlib.use('Qt5Agg')\n",
    "\n",
    "from tqdm import tqdm\n",
    "import scipy.stats as stats\n",
    "import math\n",
    "import warnings\n",
    "warnings.filterwarnings(\"ignore\")\n",
    "import time"
   ]
  },
  {
   "cell_type": "markdown",
   "metadata": {},
   "source": [
    "### Основные глобальные параметры системы"
   ]
  },
  {
   "cell_type": "markdown",
   "metadata": {},
   "source": [
    "Будем измерять величины слудующим образом. Отталкиваемся от формулы для потенциала Леннарда-Джонса $U=4E(\\frac{\\sigma^{12}}{r^{12}}-\\frac{\\sigma^6}{r^6})$. Величины без звездочки измеряются в СИ:\n",
    "\n",
    "\n",
    "\n",
    "\n",
    "$r=r^* \\sigma  ; t=\\sigma \\sqrt{\\frac{m}{E}} t^*$\n",
    "\n",
    "\n",
    "$T=\\frac{E}{k_b}T^* ; V=V^* \\sqrt{\\frac{E}{m}}$\n",
    "\n",
    "\n",
    "$U^*(r^*)=\\frac{U(r^*)}{E}$\n",
    "\n",
    "\n",
    "Для каждого газа $\\sigma$ и $\\frac{E}{k_b}$ разные\n",
    "\n"
   ]
  },
  {
   "cell_type": "markdown",
   "metadata": {},
   "source": [
    "Посчитаем нормировные коэффициенты"
   ]
  },
  {
   "cell_type": "code",
   "execution_count": 2,
   "metadata": {},
   "outputs": [],
   "source": [
    "sigma=4.010*10**(-10)  #метры  Данные для молекулы О2\n",
    "E_kb=205                #кельвины (E/kb)\n",
    "mol_mass=5.33*10**(-26)      #масса 1 молекулы в кг\n",
    "kb=1.380649*10**(-23) #постоянная Больцмана Дж/к\n",
    "sec=sigma*(mol_mass/(E_kb*kb))**(1/2) #нормировка по времени"
   ]
  },
  {
   "cell_type": "markdown",
   "metadata": {},
   "source": [
    "Введите основные данные системы в СИ"
   ]
  },
  {
   "cell_type": "code",
   "execution_count": 3,
   "metadata": {},
   "outputs": [],
   "source": [
    "aa, bb =12,6               #степени потенциала Леннарда-Джонса\n",
    "dimension=2                   #размерность пространства(пока работает только с 2 и 3)\n",
    "\n",
    "\n",
    "R_particles=10**(-10)  #радиус молекул в метрах\n",
    "temp=300   #температура кельвины\n",
    "\n",
    "steps=int(5*10**4)  # колво шагов итераций\n",
    "tmax=1e-10     #время в секундах. Перед тем как вводить посмотрите, какая нормировка на время, там очень маленькая степень "
   ]
  },
  {
   "cell_type": "markdown",
   "metadata": {},
   "source": [
    "Произведем нормировку"
   ]
  },
  {
   "cell_type": "code",
   "execution_count": 4,
   "metadata": {},
   "outputs": [
    {
     "name": "stdout",
     "output_type": "stream",
     "text": [
      "Характерное время: 57.465950540361774\n",
      "Характерная температура: 1.4634146341463414\n",
      "Характерный радиус молекул: 0.24937655860349128\n",
      "Шаг по времене = 0.00115\n"
     ]
    }
   ],
   "source": [
    "R_particles/=sigma\n",
    "temp/=E_kb\n",
    "tmax/=sec\n",
    "dt=tmax/float(steps)\n",
    "print('Характерное время: {}\\nХарактерная температура: {}\\nХарактерный радиус молекул: {}'.format(tmax,temp,R_particles))\n",
    "print('Шаг по времене = {0:.5f}'.format(dt))"
   ]
  },
  {
   "cell_type": "markdown",
   "metadata": {},
   "source": [
    "### Генерация начальных положений и скоростей частиц "
   ]
  },
  {
   "cell_type": "markdown",
   "metadata": {},
   "source": [
    "Сгенерируем частицы в объеме параллепипеда и шара. Сделаем проверку, частицы не должны располагаться к ограниченной области и друг-другу ближе, чем их радиусы.\n",
    "\n",
    "Система замнута, поэтому зануленная скорость центра масс должна сохранятся со временем."
   ]
  },
  {
   "cell_type": "code",
   "execution_count": 5,
   "metadata": {},
   "outputs": [],
   "source": [
    "def generate(generation_step=1): #a_box,b_box,c_box,box_form -глобальные переменные, стороны и форма бокса\n",
    "    \"\"\"\n",
    "    Функция, генерирующая начальное положение и скорости частиц. \n",
    "    \n",
    "    Зависит от множества глобальных параметров: dimension, count_of_particles, temp, R_particles, box_form и box_size.\n",
    "    Выводит матрицы начальных координат и скоростей, размерности которых равны (count_of_particles, dimension).\n",
    "\n",
    "    !!!Внимательно следите за соотношением размера бокса и количества частиц. В программе существует начальное расстояние между генерацией частиц, \n",
    "    чтобы избежать сил больших порядков и, как следствие, быстрого расхождения алгоритма.\n",
    "    \"\"\"\n",
    "   # сгенерируем нормированные скорости V*, как перейти в СИ написано выше\n",
    "    v=np.float64(np.random.uniform(-0.5,0.5,(count_of_particles,dimension)))   #равномерное распределение скоростей от -0,5 до 0,5 в проекциях x,y,z (part,3)\n",
    "    sumv=np.float64(np.sum(v,axis=0)/count_of_particles)     #скорость центра масс по x,y,z (1,3)\n",
    "    sumv2=np.float64(np.sum(v**2)/count_of_particles)        #средний квадрат скорости  (1)\n",
    "    fs=np.float64((dimension*temp/sumv2)**(1/2))                    # коэффициент перемаштабирования скоростей (1)\n",
    "    v=(v-sumv)*fs                                #Делаем так, чтобы занулить скорость центра масс системы (part,3)\n",
    "    sumv=np.sum(v,axis=0)/count_of_particles     #скорость центра масс по x,y,z (1,3)\n",
    "    sumv2=np.sum(v**2)/count_of_particles \n",
    "    \n",
    "    if box_form =='parallelepiped':\n",
    "        a=box_size      # стороны параллепипеда a,b,c !!!посмотреть нормировку Радиус молекул где-то 0.2-1\n",
    "        if dimension==2: a=a[:-1]\n",
    "        a=(a-2*R_particles)   #сделаем маленький оступ от стенок\n",
    "        x=np.float64(np.random.uniform(-a/2,a/2,(count_of_particles,dimension))) # матрица координат частиц ()\n",
    "        \n",
    "        for i in range(count_of_particles): #такая сумма в любом случае будет не меньше 1, тк расстояния частицы до ее самой равно 0=>1 True точно будет\n",
    "            while sum( np.sum(((x-x[i])**2),axis=1)<=((2*R_particles+generation_step)**2)) >1:  #Считаем расстояния между i-той частицей и всеми остальными,\n",
    "                 x[i]=np.random.uniform(-a/2,a/2,dimension)#если оно меньше чем радиус, то рандомим еще раз \n",
    "                                                                                                     \n",
    "\n",
    "\n",
    "    return x,v # НАЧАЛЬНЫЕ КООРДИНАТЫ И скорости\n",
    "\n"
   ]
  },
  {
   "cell_type": "markdown",
   "metadata": {},
   "source": [
    "### Взаимодействие частиц\n",
    "#### Потенциал Леннарда-Джонса. Упругое соударение с боксом"
   ]
  },
  {
   "cell_type": "markdown",
   "metadata": {},
   "source": [
    "$U(r)=c_{\\alpha \\beta}(\\frac{1}{r^{\\alpha}}-\\frac{1}{r^\\beta})$\n",
    "\n",
    "Вычислим x-составляюущую силы\n",
    "\n",
    "$f_x=-\\frac{x}{r}\\frac{\\partial U(r)}{\\partial r}$ \n",
    "\n",
    "Для леннард-джонсовской системы \n",
    "\n",
    "$f_x=\\frac{c_{\\alpha \\beta}*x}{r^2}(\\frac{\\alpha}{r^{\\alpha}}-\\frac{\\beta}{r^{\\beta}})$"
   ]
  },
  {
   "cell_type": "markdown",
   "metadata": {},
   "source": [
    "Коэффициент $c_{\\alpha \\beta}$ находится из $U_{min}(c_{\\alpha \\beta},r_{o})=-1$\n",
    "\n",
    "\n",
    "$r_o$- точка, в которой реализуется минимум потенциала"
   ]
  },
  {
   "cell_type": "code",
   "execution_count": 6,
   "metadata": {},
   "outputs": [
    {
     "data": {
      "text/plain": [
       "4.0"
      ]
     },
     "execution_count": 6,
     "metadata": {},
     "output_type": "execute_result"
    }
   ],
   "source": [
    "def c_aa_bb(aa,bb):\n",
    "   if aa!=bb and aa!=0 and bb!=0:\n",
    "       r0=(aa/bb)**(1/(aa-bb))\n",
    "       return -1/(1/r0**aa-1/r0**bb)\n",
    "   else:\n",
    "       r0=(aa)**(1/(aa))\n",
    "       return 1/(1/r0**aa)\n",
    "\n",
    "\n",
    "Caabb=c_aa_bb(12,6)\n",
    "Caabb"
   ]
  },
  {
   "cell_type": "code",
   "execution_count": 7,
   "metadata": {},
   "outputs": [],
   "source": [
    "def LJForsesPRO(x):\n",
    "    nbrs = NearestNeighbors(n_neighbors=n_neighborsLJ, algorithm='ball_tree').fit(x)\n",
    "    distances, indices = nbrs.kneighbors(x)\n",
    "    LJF = np.zeros((count_of_particles,dimension))\n",
    "    ff = Caabb/distances[:,1:]**2*(aa/distances[:,1:]**aa-bb/distances[:,1:]**bb) # Матрица ( (count_of_particlles, n_neighbors-1) )\n",
    "    for i in range(count_of_particles):\n",
    "        x_xi = -x[indices[i,1:]]+x[i] # ( (n_neighbors-1,3))\n",
    "        LJF[i] = np.sum(ff[i,None].T*x_xi, axis = 0)  # ( (1,3))\n",
    "    return LJF"
   ]
  },
  {
   "cell_type": "markdown",
   "metadata": {},
   "source": [
    "Учтем упругие соударения с боксом"
   ]
  },
  {
   "cell_type": "code",
   "execution_count": 8,
   "metadata": {},
   "outputs": [],
   "source": [
    "def bounce_box(x,v):\n",
    "    for i in range(dimension):\n",
    "        rightside=x[:,i]>(box_size[i]/2-R_particles)\n",
    "        leftside=x[:,i]<(-box_size[i]/2+R_particles)\n",
    "        if any(rightside):\n",
    "            x[rightside, i] = -x[rightside, i]+2*(box_size[i]/2-R_particles)\n",
    "            v[rightside, i] = -v[rightside, i]\n",
    "        if any(leftside):\n",
    "            x[leftside, i] = -x[leftside, i]+2*(-box_size[i]/2+R_particles)\n",
    "            v[leftside, i] = -v[leftside, i]\n",
    "    return x,v"
   ]
  },
  {
   "cell_type": "markdown",
   "metadata": {},
   "source": [
    "#### В книг Брилиантова 19 страница можно найти формулы для скоростей соударающихся молекул\n",
    "\n",
    "\n",
    "$\\vec{V^{'}_{1}} = \\vec{V_1} - \\frac{1}{2} (1+E)(\\vec{V_{1}},\\vec{e})\\vec{e}$\n",
    "\n",
    "\n",
    "$\\vec{V^{'}_{2}} = \\vec{V_2} + \\frac{1}{2} (1+E)(\\vec{V_{1}},\\vec{e})\\vec{e}$\n",
    "\n",
    "\n",
    "$\\vec{e}=\\frac{\\vec{r}_{1-2}}{|\\vec{r}_{1-2}|}$\n",
    "\n",
    "\n",
    "$\\vec{V}_{1-2} = \\vec{V}_1 - \\vec{V}_2$"
   ]
  },
  {
   "cell_type": "code",
   "execution_count": 9,
   "metadata": {},
   "outputs": [],
   "source": [
    "def coef_restitution(v_scalar): #Проверить формулу (Можно аппроксимировать, как coef_rest = 1-C*V^(1/5) см статью 3)\n",
    "    #Young_modulus = 0.2\n",
    "    #Poisson_ratio = 0.3\n",
    "    #A = 0.1\n",
    "    #alpha = (3/2)**(3/2)*Young_modulus*2*(R_particles/2)**(1/2)/(1-Poisson_ratio**2) # модуль юнга и \n",
    "    #c1 = 1.1534\n",
    "    #c2 = 3/5*c1**2\n",
    "    return 1-D1*abs(v_scalar)**(1/5)#c1*A*alpha**(2/5)*v_scalar**(1/5)+c2*A**2*alpha**(4/5)*"
   ]
  },
  {
   "cell_type": "code",
   "execution_count": 10,
   "metadata": {},
   "outputs": [],
   "source": [
    "def collisions(x, v):\n",
    "    if triple_collisions == True:\n",
    "            nbrs = NearestNeighbors(n_neighbors=3, algorithm='ball_tree').fit(x)\n",
    "            distances, indices = nbrs.kneighbors(x)\n",
    "            indices = indices[(distances[:,1]<=2*R_particles)*(distances[:,2]<=2*R_particles)]\n",
    "            a = np.array([[0,0,0]])\n",
    "            for i in range(len(indices)):\n",
    "                if np.sort(indices[i]) in a: continue\n",
    "                else: \n",
    "                        a=np.vstack((np.sort(indices[i]),a))\n",
    "                        \n",
    "                        r_12 = x[indices[i,0]]-x[indices[i,1]]  #столкновение средней и первой\n",
    "                        e = r_12 / sum(r_12**2)**(1/2)\n",
    "                        v_12 = v[indices[i,0]]-v[indices[i,1]]\n",
    "                        v_scalar = sum(v_12*e)\n",
    "                        dr = (2*R_particles-sum(r_12**2)**(1/2))*e\n",
    "                        x[indices[i,0]]+=dr/2\n",
    "                        x[indices[i,1]]-=dr/2\n",
    "                        v[indices[i,0]] = v[indices[i,0]] - 1/2*(1+coef_restitution(v_scalar=v_scalar))*v_scalar*e\n",
    "                        v[indices[i,1]] = v[indices[i,1]] + 1/2*(1+coef_restitution(v_scalar=v_scalar))*v_scalar*e\n",
    "\n",
    "                        r_12 = x[indices[i,0]]-x[indices[i,2]] #столкновение средней и второй\n",
    "                        e = r_12 / sum(r_12**2)**(1/2)\n",
    "                        v_12 = v[indices[i,0]]-v[indices[i,2]]\n",
    "                        v_scalar = sum(v_12*e)\n",
    "                        dr = (2*R_particles-sum(r_12**2)**(1/2))*e\n",
    "                        x[indices[i,0]]+=dr/2\n",
    "                        x[indices[i,2]]-=dr/2\n",
    "                        v[indices[i,0]] = v[indices[i,0]] - 1/2*(1+coef_restitution(v_scalar=v_scalar))*v_scalar*e\n",
    "                        v[indices[i,2]] = v[indices[i,2]] + 1/2*(1+coef_restitution(v_scalar=v_scalar))*v_scalar*e\n",
    "\n",
    "                        r_12 = x[indices[i,0]]-x[indices[i,1]] #столкновение средней и первой\n",
    "                        e = r_12 / sum(r_12**2)**(1/2)\n",
    "                        v_12 = v[indices[i,0]]-v[indices[i,1]]\n",
    "                        v_scalar = sum(v_12*e)\n",
    "                        v[indices[i,0]] = v[indices[i,0]] - 1/2*(1+coef_restitution(v_scalar=v_scalar))*v_scalar*e\n",
    "                        v[indices[i,1]] = v[indices[i,1]] + 1/2*(1+coef_restitution(v_scalar=v_scalar))*v_scalar*e\n",
    "\n",
    "\n",
    "    nbrs = NearestNeighbors(n_neighbors=2, algorithm='ball_tree').fit(x)\n",
    "    distances, indices = nbrs.kneighbors(x)\n",
    "    indices = np.sort(indices[distances[:,1]<=2*R_particles],axis=1)\n",
    "    for i in range(0,len(indices),2):\n",
    "            r_12 = x[indices[i,0]]-x[indices[i,1]]\n",
    "            e = r_12 / sum(r_12**2)**(1/2)\n",
    "            v_12 = v[indices[i,0]]-v[indices[i,1]]\n",
    "            v_scalar = sum(v_12*e)\n",
    "            dr = (2*R_particles-sum(r_12**2)**(1/2))*e\n",
    "            x[indices[i,0]]+=dr/2\n",
    "            x[indices[i,1]]-=dr/2\n",
    "            v[indices[i,0]] = v[indices[i,0]] - 1/2*(1+coef_restitution(v_scalar=v_scalar))*v_scalar*e\n",
    "            v[indices[i,1]] = v[indices[i,1]] + 1/2*(1+coef_restitution(v_scalar=v_scalar))*v_scalar*e\n",
    "\n",
    "    return x, v, len(indices)/2"
   ]
  },
  {
   "cell_type": "markdown",
   "metadata": {},
   "source": [
    "### Итерационный алгоритм\n",
    "#### Алгоритм Верле"
   ]
  },
  {
   "cell_type": "markdown",
   "metadata": {},
   "source": [
    "Вывод алгоритма начнем с разложения в ряд Тейлора для координаты частицы в момент времени t(страница 69)\n",
    "\n",
    "\n",
    "$r(t+\\Delta t)=r(t)+V(t)\\Delta t +\\frac{f(t)}{2m}\\Delta t^2$\n",
    "\n",
    "Скорость:\n",
    "\n",
    "\n",
    "$V(t+\\Delta t)=V(t)+\\frac{f(t+\\Delta t)+f(t)}{2m}\\Delta t$\n",
    "\n",
    "\n",
    "Данный алгоритм эквивалентен алгоритму Верле в оригинальной форме\n"
   ]
  },
  {
   "cell_type": "code",
   "execution_count": 11,
   "metadata": {},
   "outputs": [],
   "source": [
    "def iteration1(x,v): #одна итерация  #возможно нужно поделить на массы\n",
    "    \n",
    "    ff=LJForsesPRO(x)\n",
    "    x=x+v*dt+ff/2*(dt**2)\n",
    "    ff_new=LJForsesPRO(x)\n",
    "    v=v+(ff_new+ff)/2*dt\n",
    "\n",
    "    x, v = bounce_box(x, v)\n",
    "\n",
    "    #sumv=np.sum(v_new,axis=0)/count_of_particles #скорость центра масс\n",
    "    #sumv2=np.sum(v_new**2)/count_of_particles   #кенетическая энергия на одну молекулу\n",
    "    #emp=sumv2/(3*count_of_particles)       #мгновенная температура\n",
    "    #energy=1/2*sumv2      \n",
    "\n",
    "    return x,v,0#,temp,energy"
   ]
  },
  {
   "cell_type": "markdown",
   "metadata": {},
   "source": [
    "#### Случай, если в системе присутствуют только столкновения"
   ]
  },
  {
   "cell_type": "code",
   "execution_count": 12,
   "metadata": {},
   "outputs": [],
   "source": [
    "def iteration2(x, v):\n",
    "    x = x+v*dt\n",
    "    x, v, collisions_per_interation = collisions(x, v)\n",
    "    x, v = bounce_box(x, v)\n",
    "    return x, v, collisions_per_interation"
   ]
  },
  {
   "cell_type": "markdown",
   "metadata": {},
   "source": [
    "### Расстояние Кульбака-Лейблера.\n",
    "\n",
    "\n",
    "Данное расcтояние позволяет оценить близость двух распределений, нас интересует, непосредственно, близость распределения скоростей и распределения Максвелла.\n",
    "\n",
    "\n",
    "$KL(P||Q) = \\int P(x) log \\frac{P(x)}{Q(x)} dx$\n",
    "\n",
    "\n",
    "$KL(P||Q) = \\sum_i P(i) log \\frac{P(i)}{Q(i)}$\n",
    "\n",
    "i - наблюдения"
   ]
  },
  {
   "cell_type": "code",
   "execution_count": 13,
   "metadata": {},
   "outputs": [],
   "source": [
    "def KLdivergence(mu, sigma, newbar): #передаем параметры распределения с которым хотим сравнить и распределение(высоту баров) распределения скоростей в данный момент\n",
    "    scales = np.random.normal(mu, sigma, 10**5)\n",
    "    HIST_BINS = np.linspace(-4,4, len(newbar)+1)\n",
    "    newbarnormal,_=np.histogram(scales, HIST_BINS, normed=True) # массив высот баров из выборки нормального распределения длиной len(newbar)\n",
    "    newbarnormal = newbarnormal[newbar>0]\n",
    "    newbar = newbar[newbar>0]\n",
    "    return np.sum(newbar*(HIST_BINS[-1]-HIST_BINS[-2])*np.log(newbar/newbarnormal)) # умножение на ширину бара нужно формально (чтобы была вероятность)"
   ]
  },
  {
   "cell_type": "markdown",
   "metadata": {},
   "source": [
    "### Визуализация."
   ]
  },
  {
   "cell_type": "code",
   "execution_count": 14,
   "metadata": {},
   "outputs": [],
   "source": [
    "def animhists(x,v,iteration, ips=10): \n",
    "    matplotlib.use('Qt5Agg')    \n",
    "    time = 0 #время с момента начала анимации, те время движения молекул\n",
    "    KL = np.zeros(dimension)\n",
    "    count_of_collisions = 0\n",
    "    \n",
    "    plt.ion()\n",
    "\n",
    "    fig, ax = plt.subplots(nrows=1,ncols=dimension,figsize=(18,10))\n",
    "    if count_of_particles>200:  bins_count = 30                              # \"по-умному\" зададим кол-во баров\n",
    "    elif count_of_particles>=40: bins_count=(count_of_particles)**1/2/np.log2(count_of_particles)*1.6+11\n",
    "    elif count_of_particles<40: bins_count=(count_of_particles)**1/2/np.log2(count_of_particles)*1.8+9\n",
    "    HIST_BINS=np.linspace(-4,4,round(bins_count))\n",
    "    bars=[]\n",
    "    lines=[]\n",
    "    KL_history = [[] for i in range(dimension)]\n",
    "\n",
    "    mu = 0   #скорость центра масс у нас равна 0, поэтому мат ожидание 0\n",
    "    variance = np.sum(v**2)/count_of_particles\n",
    "    sigma = math.sqrt(variance/dimension)\n",
    "    KL_time_history=[[] for i in range(dimension)]\n",
    "    KL_collisions_history = [[] for i in range(dimension)]\n",
    "    collisions_history = []\n",
    "\n",
    "    for i in range(dimension):\n",
    "        _,_,bar_cont = ax[i].hist(v[:,i],HIST_BINS,density=True)  #строим гистограмму и получаем бары \n",
    "        bars.append(bar_cont)\n",
    "        line,=ax[i].plot(np.linspace(mu - 3*sigma, mu + 3*sigma, 100), stats.norm.pdf(np.linspace(mu - 3*sigma, mu + 3*sigma, 100), mu, sigma))\n",
    "        lines.append(line)\n",
    "        ax[i].set_ylim(top=0.6)\n",
    "\n",
    "    while len(plt.get_fignums()) > 0:\n",
    "        collisions_per_iteration = 0\n",
    "        for j in range(ips):\n",
    "            x, v, c_p_i = iteration(x, v)\n",
    "            collisions_per_iteration+=c_p_i\n",
    "        time+=ips*dt\n",
    "\n",
    "        if collisions_per_iteration !=0:\n",
    "            count_of_collisions+=collisions_per_iteration\n",
    "            collisions_history.append(count_of_collisions) \n",
    "\n",
    "            \n",
    "        for i in range(dimension):\n",
    "            newbar,_=np.histogram(v[:,i],HIST_BINS,normed=True)  #находим новые бары\n",
    "\n",
    "            mu = np.sum(v[:,dimension])   #скорость центра масс у нас равна 0, поэтому мат ожидание 0\n",
    "            variance = np.sum(v**2)/count_of_particles  # <v^2>-<v>^2, dimension/2 kT = mv^2 /2, sigma = sqrt(kT/m) => sigma = sqrt(v^2 /dimension)\n",
    "            sigma = (variance/dimension)**(1/2) \n",
    "            lines[i].set_xdata(np.linspace(mu - 3*sigma, mu + 3*sigma, 100))  # из-за того, что потенциальная энергия переходит в кинетическую,успредненный квдарат скорости меняется => меняется распределение\n",
    "            lines[i].set_ydata( stats.norm.pdf(np.linspace(mu - 3*sigma, mu + 3*sigma, 100), mu, sigma))\n",
    "        \n",
    "            KL[i] = KLdivergence(mu, sigma, newbar)\n",
    "            KL_history[i].append(KL[i])\n",
    "            \n",
    "            if collisions_per_iteration !=0: \n",
    "                KL_collisions_history[i].append(KL[i])\n",
    "\n",
    "            ax[i].set_title('{0}Распред. скор. {1}. KL = {2:.3f}'.format([str(count_of_particles)+' частиц. ','',''][i], ['Vx','Vy'+'. Момент вр. t='+str(round(time,2)),'Vz'][i],KL[i]))\n",
    "            for count, rect in zip(newbar, bars[i].patches):\n",
    "              rect.set_height(count)                             #меняем старые бары на новые\n",
    "              \n",
    "        plt.draw()\n",
    "        plt.gcf().canvas.flush_events() \n",
    "\n",
    "    plt.ioff()\n",
    "    plt.show()\n",
    "\n",
    "    return KL_history"
   ]
  },
  {
   "cell_type": "code",
   "execution_count": 15,
   "metadata": {},
   "outputs": [],
   "source": [
    "def animationND(x, v, iteration, ips=10):\n",
    "    \"\"\"\n",
    "    Функция, анимирующая движение частиц на плоскости. \n",
    "    \n",
    "    Принимает на вход начальные координаты и скорости. Векторы должны быть длины dimesion=2.\n",
    "    Выводит анимацию движения частиц в боксе и гистограммы распределения их скоростей.\n",
    "    \"\"\"\n",
    "    count_of_collisions = 0\n",
    "    time = 0 #время с момента начала анимации, те время движения молекул\n",
    "    KL = np.zeros(dimension)\n",
    "    plt.ion()\n",
    "    fig,ax = plt.subplots(nrows=dimension,ncols=3,figsize=(19,10))\n",
    "    \n",
    "    gs = ax[0, 0].get_gridspec()    #делаем 1 большое окно и 2 маленьких с гистограммами \n",
    "    for i in range(dimension):\n",
    "        for ax0 in ax[i,:2]: ax0.remove()\n",
    "    if dimension==3: \n",
    "        axbig = fig.add_subplot(gs[:dimension, :2], projection='3d')\n",
    "        axbig.set(xlim=(-box_size[0]/2, box_size[0]/2), ylim=(-box_size[1]/2, box_size[1]/2), zlim=(-box_size[2]/2, box_size[2]/2))\n",
    "        axbig.set_xlabel('Сторона x')\n",
    "        axbig.set_ylabel('Сторона y')\n",
    "        axbig.set_zlabel('Сторона z')\n",
    "        axbig.set_box_aspect([box_size[0], box_size[1], box_size[2]])\n",
    "\n",
    "    else: \n",
    "        axbig = fig.add_subplot(gs[:dimension, :2])\n",
    "        axbig.set(xlim=(-box_size[0]/2, box_size[0]/2), ylim=(-box_size[1]/2, box_size[1]/2))\n",
    "        axbig.set_aspect(1)\n",
    "    \n",
    "    axbig.set_title('Движение {0} частиц. Момент времени t={1:.2f}. Кол-во столкновений {2}'.format(count_of_particles,time, count_of_collisions))\n",
    "    fig.tight_layout() \n",
    "    \n",
    "    bbox = axbig.get_tightbbox(fig.canvas.get_renderer(), for_layout_only=True)\n",
    "    width, height = bbox.width, bbox.height\n",
    "\n",
    "    size=(width*R_particles/box_size[0]*fig.dpi/89)**2\n",
    "    \n",
    "    if dimension == 3: scat = axbig.scatter3D(x[:,0], x[:,1], x[:,2],s=size)\n",
    "    if dimension == 2:  scat = axbig.scatter(x[:,0], x[:,1],s=size)\n",
    "    if iteration == iteration2: text='Движение {0} частиц. Момент времени t={1:.2f}. Кол-во столкновений {2:.0f}'\n",
    "    else: text='Движение {0} частиц. Момент времени t={1:.2f}'\n",
    "    if count_of_particles>200:  bins_count = 30                              # \"по-умному\" зададим кол-во баров\n",
    "    elif count_of_particles>=40: bins_count=(count_of_particles)**1/2/np.log2(count_of_particles)*1.6+4\n",
    "    elif count_of_particles<40: bins_count=(count_of_particles)**1/2/np.log2(count_of_particles)*1.8+9\n",
    "    \n",
    "    HIST_BINS=np.linspace(-4,4,round(bins_count))     # отрисовываем начальные бары и желаемое распределение \n",
    "    bars=[]\n",
    "    lines=[]\n",
    "    KL_time_history=[[] for i in range(dimension)]\n",
    "    KL_collisions_history = [[] for i in range(dimension)]\n",
    "    collisions_history = []\n",
    "    mu = 0   #скорость центра масс у нас равна 0, поэтому мат ожидание 0\n",
    "    variance = np.sum(v**2)/count_of_particles  # <v^2>-<v>^2,  dim/2 kT = mv^2 /2, sigma = sqrt(kT/m) => sigma = sqrt(v^2 /dim)\n",
    "    sigma = (variance/dimension)**(1/2)\n",
    "    \n",
    "    for i in range(dimension):\n",
    "        _,_,bar_cont = ax[i,2].hist(v[:,i],HIST_BINS,density=True)  #строим гистограмму и получаем бары \n",
    "        bars.append(bar_cont)\n",
    "        line, =ax[i,2].plot(np.linspace(mu - 3*sigma, mu + 3*sigma, 100), stats.norm.pdf(np.linspace(mu - 3*sigma, mu + 3*sigma, 100), mu, sigma))\n",
    "        lines.append(line)\n",
    "        ax[i,2].set_ylim(top=0.6)  # лимит по y\n",
    "        ax[i,2].set_title('Распределение скоростей {0}. KL = {1:.3f}'.format(['Vx','Vy','Vz'][i],KL[i]))\n",
    "\n",
    "    while len(plt.get_fignums()) > 0: #запускаем анимацию, пока открыто больше 1 окна\n",
    "        collisions_per_iteration = 0\n",
    "        for j in range(ips):\n",
    "            x, v, c_p_i = iteration(x, v)\n",
    "            collisions_per_iteration+=c_p_i    \n",
    "          \n",
    "        time+=ips*dt\n",
    "\n",
    "        if collisions_per_iteration !=0:\n",
    "            count_of_collisions+=collisions_per_iteration\n",
    "            collisions_history.append(count_of_collisions) \n",
    "\n",
    "        for i in range(dimension):\n",
    "            newbar,_=np.histogram(v[:,i],HIST_BINS,normed=True)  #находим новые бары \n",
    "\n",
    "            mu = np.sum(v[:,i])/count_of_particles   #скорость центра масс у нас равна 0, поэтому мат ожидание 0\n",
    "            variance = np.sum(v**2)/count_of_particles  # <v^2>-<v>^2,  kT = mv^2 /2, sigma = sqrt(kT/m) => sigma = sqrt(v^2 /2)\n",
    "            sigma = (variance/2)**(1/2)\n",
    "            lines[i].set_data(np.linspace(mu - 3*sigma, mu + 3*sigma, 100), stats.norm.pdf(np.linspace(mu - 3*sigma, mu + 3*sigma, 100), mu, sigma))  # из-за того, что потенциальная энергия переходит в кинетическую,успредненный квдарат скорости меняется => меняется распределение\n",
    "            KL[i] = KLdivergence(mu, sigma, newbar)              #Считаем KL\n",
    "            KL_time_history[i].append(KL[i])\n",
    "            if collisions_per_iteration !=0: \n",
    "                KL_collisions_history[i].append(KL[i])\n",
    "            for count, rect in zip(newbar, bars[i].patches):     \n",
    "              rect.set_height(count)                             #меняем высоту баров\n",
    "        \n",
    "        for i in range(dimension): ax[i,2].set_title('Распределение скоростей {0}. KL = {1:.3f}'.format(['Vx','Vy','Vz'][i],KL[i]))\n",
    "        axbig.set_title(text.format(count_of_particles,time, count_of_collisions))\n",
    "    \n",
    "        if dimension==2: scat.set_offsets(np.c_[x[:,0], x[:,1]])\n",
    "        if dimension==3: scat._offsets3d = (x[:,0], x[:,1], x[:,2])\n",
    "\n",
    "        plt.draw()                         #отображаем новые данные \n",
    "        plt.gcf().canvas.flush_events()\n",
    "\n",
    "    plt.ioff()\n",
    "    plt.show()\n",
    "\n",
    "    return KL_time_history, KL_collisions_history,collisions_history"
   ]
  },
  {
   "cell_type": "code",
   "execution_count": 16,
   "metadata": {},
   "outputs": [],
   "source": [
    "def noanim(x, v, iteration, rng=100, ips = 10): # Сделано для набора статистики\n",
    "    time = 0 #время с момента начала анимации, те время движения молекул\n",
    "    count_of_collisions = 0\n",
    "    KL = np.zeros(dimension)\n",
    "\n",
    "    if count_of_particles>200:  bins_count = 30                              # \"по-умному\" зададим кол-во баров\n",
    "    elif count_of_particles>=40: bins_count=(count_of_particles)**1/2/np.log2(count_of_particles)*1.6+3\n",
    "    elif count_of_particles<40: bins_count=(count_of_particles)**1/2/np.log2(count_of_particles)*1.5+7\n",
    "    HIST_BINS=np.linspace(-4,4,round(bins_count))     # отрисовываем начальные бары и желаемое распределение\n",
    "\n",
    "    KL_time_history=[[] for i in range(dimension)]\n",
    "    KL_collisions_history = [[] for i in range(dimension)]\n",
    "    collisions_history = []\n",
    "\n",
    "    mu = 0   #скорость центра масс у нас равна 0, поэтому мат ожидание 0\n",
    "    variance = np.sum(v**2)/count_of_particles  # <v^2>-<v>^2, dimenssion/2 kT = mv^2 /2, sigma = sqrt(kT/m) => sigma = sqrt(v^2 /2)\n",
    "    sigma = (variance/dimension)**(1/2)\n",
    "    for j in tqdm(range(rng)): #!!! СЮДА ПОДСТАВИТЬ ВРЕМЯ\n",
    "        collisions_per_iteration = 0\n",
    "        for j in range(ips):\n",
    "            x, v, c_p_i = iteration(x, v)\n",
    "            collisions_per_iteration+=c_p_i    \n",
    "          \n",
    "\n",
    "        count_of_collisions+=collisions_per_iteration\n",
    "        collisions_history.append(count_of_collisions) \n",
    "\n",
    "        time+=ips*dt\n",
    "        for i in range(dimension):\n",
    "            newbar,_=np.histogram(v[:,i],HIST_BINS,normed=True)  #находим новые бары \n",
    "\n",
    "            mu = np.sum(v[:,i])/count_of_particles   #скорость центра масс у нас равна 0, поэтому мат ожидание 0\n",
    "            variance = np.sum(v**2)/count_of_particles  # <v^2>-<v>^2, dim/2 kT = mv^2 /2, sigma = sqrt(kT/m) => sigma = sqrt(v^2 /dim)\n",
    "            sigma = (variance/dimension)**(1/2)\n",
    "                          #Считаем KL\n",
    "            KL[i] = KLdivergence(mu, sigma, newbar)\n",
    "            KL_time_history[i].append(KL[i])\n",
    "            KL_collisions_history[i].append(KL[i])\n",
    "    return np.array(KL_time_history), KL_collisions_history,collisions_history"
   ]
  },
  {
   "cell_type": "code",
   "execution_count": 17,
   "metadata": {},
   "outputs": [],
   "source": [
    "def stat(iteration, count=1,rng =100,ips=10): # кол-во генираций, по которому усредняем, кол-во итераций в течении которого смотрим, ips \n",
    "    \n",
    "    KL_mid = np.zeros((dimension, rng))\n",
    "    CL_mid = np.zeros((dimension, rng))\n",
    "    collisions = np.zeros(rng)\n",
    "\n",
    "    for k in range(count):\n",
    "        x, v = generate(generation_step=0.2)\n",
    "        KL_time_history_mid, KL_collisions_history,collisions_history = noanim(x, v, iteration, rng=rng, ips=ips) \n",
    "        CL_mid += KL_collisions_history\n",
    "        KL_mid+=KL_time_history_mid\n",
    "        collisions+=collisions_history\n",
    "\n",
    "     \n",
    "        \n",
    "    KL_mid/= count\n",
    "    collisions/=count\n",
    "    CL_mid/=count\n",
    "    KL_time_history = [dt*ips*i for i in range(rng)]\n",
    "    return np.array(KL_mid),  np.array(KL_time_history), np.array(CL_mid), np.array(collisions)"
   ]
  },
  {
   "cell_type": "markdown",
   "metadata": {},
   "source": [
    "### Основная программа"
   ]
  },
  {
   "cell_type": "code",
   "execution_count": 18,
   "metadata": {},
   "outputs": [],
   "source": [
    "box_size=np.array([20,20,20])\n",
    "box_form='parallelepiped'   #если бокс - сфера, то в качестве радиуса будет использовано a_box, в случае размерности 2, размер с_box 'обрубится'\n",
    "count_of_particles=1000\n",
    "dimension=3\n",
    "if dimension == 2 : n_neighborsLJ = int(count_of_particles/(box_size[0]*box_size[0])*10)\n",
    "if dimension == 3 : n_neighborsLJ = int(count_of_particles/(box_size[0]*box_size[1]*box_size[2])*30)"
   ]
  },
  {
   "cell_type": "code",
   "execution_count": 19,
   "metadata": {},
   "outputs": [],
   "source": [
    "D1=0.1\n",
    "triple_collisions = True"
   ]
  },
  {
   "cell_type": "code",
   "execution_count": 20,
   "metadata": {},
   "outputs": [],
   "source": [
    "x, v = generate(generation_step=0.6)\n",
    "_,_,_ = animationND(x,v,iteration2,ips=5)"
   ]
  },
  {
   "cell_type": "code",
   "execution_count": 21,
   "metadata": {},
   "outputs": [
    {
     "name": "stdout",
     "output_type": "stream",
     "text": [
      "34.479570324217065\n"
     ]
    },
    {
     "name": "stderr",
     "output_type": "stream",
     "text": [
      "  2%|▏         | 62/3000 [00:09<07:16,  6.74it/s]\n"
     ]
    },
    {
     "ename": "KeyboardInterrupt",
     "evalue": "",
     "output_type": "error",
     "traceback": [
      "\u001b[1;31m---------------------------------------------------------------------------\u001b[0m",
      "\u001b[1;31mKeyboardInterrupt\u001b[0m                         Traceback (most recent call last)",
      "\u001b[1;32m~\\AppData\\Local\\Temp/ipykernel_8864/673608084.py\u001b[0m in \u001b[0;36m<module>\u001b[1;34m\u001b[0m\n\u001b[0;32m      3\u001b[0m \u001b[0mprint\u001b[0m\u001b[1;33m(\u001b[0m\u001b[0mrng\u001b[0m\u001b[1;33m*\u001b[0m\u001b[0mips\u001b[0m\u001b[1;33m*\u001b[0m\u001b[0mdt\u001b[0m\u001b[1;33m)\u001b[0m\u001b[1;33m\u001b[0m\u001b[1;33m\u001b[0m\u001b[0m\n\u001b[0;32m      4\u001b[0m \u001b[0mD1\u001b[0m\u001b[1;33m=\u001b[0m\u001b[1;36m0.1\u001b[0m\u001b[1;33m\u001b[0m\u001b[1;33m\u001b[0m\u001b[0m\n\u001b[1;32m----> 5\u001b[1;33m \u001b[0mKL_time_history_mid1\u001b[0m\u001b[1;33m,\u001b[0m  \u001b[0mKL_time_history\u001b[0m\u001b[1;33m,\u001b[0m\u001b[0mKL_collisions_history\u001b[0m\u001b[1;33m,\u001b[0m\u001b[0mcollisions_history\u001b[0m \u001b[1;33m=\u001b[0m \u001b[0mstat\u001b[0m\u001b[1;33m(\u001b[0m\u001b[0miteration\u001b[0m\u001b[1;33m=\u001b[0m\u001b[0miteration2\u001b[0m\u001b[1;33m,\u001b[0m \u001b[0mcount\u001b[0m \u001b[1;33m=\u001b[0m \u001b[1;36m20\u001b[0m\u001b[1;33m,\u001b[0m \u001b[0mrng\u001b[0m\u001b[1;33m=\u001b[0m \u001b[0mrng\u001b[0m\u001b[1;33m,\u001b[0m \u001b[0mips\u001b[0m \u001b[1;33m=\u001b[0m \u001b[0mips\u001b[0m\u001b[1;33m)\u001b[0m\u001b[1;33m\u001b[0m\u001b[1;33m\u001b[0m\u001b[0m\n\u001b[0m",
      "\u001b[1;32m~\\AppData\\Local\\Temp/ipykernel_8864/2983276491.py\u001b[0m in \u001b[0;36mstat\u001b[1;34m(iteration, count, rng, ips)\u001b[0m\n\u001b[0;32m      7\u001b[0m     \u001b[1;32mfor\u001b[0m \u001b[0mk\u001b[0m \u001b[1;32min\u001b[0m \u001b[0mrange\u001b[0m\u001b[1;33m(\u001b[0m\u001b[0mcount\u001b[0m\u001b[1;33m)\u001b[0m\u001b[1;33m:\u001b[0m\u001b[1;33m\u001b[0m\u001b[1;33m\u001b[0m\u001b[0m\n\u001b[0;32m      8\u001b[0m         \u001b[0mx\u001b[0m\u001b[1;33m,\u001b[0m \u001b[0mv\u001b[0m \u001b[1;33m=\u001b[0m \u001b[0mgenerate\u001b[0m\u001b[1;33m(\u001b[0m\u001b[0mgeneration_step\u001b[0m\u001b[1;33m=\u001b[0m\u001b[1;36m0.2\u001b[0m\u001b[1;33m)\u001b[0m\u001b[1;33m\u001b[0m\u001b[1;33m\u001b[0m\u001b[0m\n\u001b[1;32m----> 9\u001b[1;33m         \u001b[0mKL_time_history_mid\u001b[0m\u001b[1;33m,\u001b[0m \u001b[0mKL_collisions_history\u001b[0m\u001b[1;33m,\u001b[0m\u001b[0mcollisions_history\u001b[0m \u001b[1;33m=\u001b[0m \u001b[0mnoanim\u001b[0m\u001b[1;33m(\u001b[0m\u001b[0mx\u001b[0m\u001b[1;33m,\u001b[0m \u001b[0mv\u001b[0m\u001b[1;33m,\u001b[0m \u001b[0miteration\u001b[0m\u001b[1;33m,\u001b[0m \u001b[0mrng\u001b[0m\u001b[1;33m=\u001b[0m\u001b[0mrng\u001b[0m\u001b[1;33m,\u001b[0m \u001b[0mips\u001b[0m\u001b[1;33m=\u001b[0m\u001b[0mips\u001b[0m\u001b[1;33m)\u001b[0m\u001b[1;33m\u001b[0m\u001b[1;33m\u001b[0m\u001b[0m\n\u001b[0m\u001b[0;32m     10\u001b[0m         \u001b[0mCL_mid\u001b[0m \u001b[1;33m+=\u001b[0m \u001b[0mKL_collisions_history\u001b[0m\u001b[1;33m\u001b[0m\u001b[1;33m\u001b[0m\u001b[0m\n\u001b[0;32m     11\u001b[0m         \u001b[0mKL_mid\u001b[0m\u001b[1;33m+=\u001b[0m\u001b[0mKL_time_history_mid\u001b[0m\u001b[1;33m\u001b[0m\u001b[1;33m\u001b[0m\u001b[0m\n",
      "\u001b[1;32m~\\AppData\\Local\\Temp/ipykernel_8864/1268070453.py\u001b[0m in \u001b[0;36mnoanim\u001b[1;34m(x, v, iteration, rng, ips)\u001b[0m\n\u001b[0;32m     19\u001b[0m         \u001b[0mcollisions_per_iteration\u001b[0m \u001b[1;33m=\u001b[0m \u001b[1;36m0\u001b[0m\u001b[1;33m\u001b[0m\u001b[1;33m\u001b[0m\u001b[0m\n\u001b[0;32m     20\u001b[0m         \u001b[1;32mfor\u001b[0m \u001b[0mj\u001b[0m \u001b[1;32min\u001b[0m \u001b[0mrange\u001b[0m\u001b[1;33m(\u001b[0m\u001b[0mips\u001b[0m\u001b[1;33m)\u001b[0m\u001b[1;33m:\u001b[0m\u001b[1;33m\u001b[0m\u001b[1;33m\u001b[0m\u001b[0m\n\u001b[1;32m---> 21\u001b[1;33m             \u001b[0mx\u001b[0m\u001b[1;33m,\u001b[0m \u001b[0mv\u001b[0m\u001b[1;33m,\u001b[0m \u001b[0mc_p_i\u001b[0m \u001b[1;33m=\u001b[0m \u001b[0miteration\u001b[0m\u001b[1;33m(\u001b[0m\u001b[0mx\u001b[0m\u001b[1;33m,\u001b[0m \u001b[0mv\u001b[0m\u001b[1;33m)\u001b[0m\u001b[1;33m\u001b[0m\u001b[1;33m\u001b[0m\u001b[0m\n\u001b[0m\u001b[0;32m     22\u001b[0m             \u001b[0mcollisions_per_iteration\u001b[0m\u001b[1;33m+=\u001b[0m\u001b[0mc_p_i\u001b[0m\u001b[1;33m\u001b[0m\u001b[1;33m\u001b[0m\u001b[0m\n\u001b[0;32m     23\u001b[0m \u001b[1;33m\u001b[0m\u001b[0m\n",
      "\u001b[1;32m~\\AppData\\Local\\Temp/ipykernel_8864/2336566202.py\u001b[0m in \u001b[0;36miteration2\u001b[1;34m(x, v)\u001b[0m\n\u001b[0;32m      1\u001b[0m \u001b[1;32mdef\u001b[0m \u001b[0miteration2\u001b[0m\u001b[1;33m(\u001b[0m\u001b[0mx\u001b[0m\u001b[1;33m,\u001b[0m \u001b[0mv\u001b[0m\u001b[1;33m)\u001b[0m\u001b[1;33m:\u001b[0m\u001b[1;33m\u001b[0m\u001b[1;33m\u001b[0m\u001b[0m\n\u001b[0;32m      2\u001b[0m     \u001b[0mx\u001b[0m \u001b[1;33m=\u001b[0m \u001b[0mx\u001b[0m\u001b[1;33m+\u001b[0m\u001b[0mv\u001b[0m\u001b[1;33m*\u001b[0m\u001b[0mdt\u001b[0m\u001b[1;33m\u001b[0m\u001b[1;33m\u001b[0m\u001b[0m\n\u001b[1;32m----> 3\u001b[1;33m     \u001b[0mx\u001b[0m\u001b[1;33m,\u001b[0m \u001b[0mv\u001b[0m\u001b[1;33m,\u001b[0m \u001b[0mcollisions_per_interation\u001b[0m \u001b[1;33m=\u001b[0m \u001b[0mcollisions\u001b[0m\u001b[1;33m(\u001b[0m\u001b[0mx\u001b[0m\u001b[1;33m,\u001b[0m \u001b[0mv\u001b[0m\u001b[1;33m)\u001b[0m\u001b[1;33m\u001b[0m\u001b[1;33m\u001b[0m\u001b[0m\n\u001b[0m\u001b[0;32m      4\u001b[0m     \u001b[0mx\u001b[0m\u001b[1;33m,\u001b[0m \u001b[0mv\u001b[0m \u001b[1;33m=\u001b[0m \u001b[0mbounce_box\u001b[0m\u001b[1;33m(\u001b[0m\u001b[0mx\u001b[0m\u001b[1;33m,\u001b[0m \u001b[0mv\u001b[0m\u001b[1;33m)\u001b[0m\u001b[1;33m\u001b[0m\u001b[1;33m\u001b[0m\u001b[0m\n\u001b[0;32m      5\u001b[0m     \u001b[1;32mreturn\u001b[0m \u001b[0mx\u001b[0m\u001b[1;33m,\u001b[0m \u001b[0mv\u001b[0m\u001b[1;33m,\u001b[0m \u001b[0mcollisions_per_interation\u001b[0m\u001b[1;33m\u001b[0m\u001b[1;33m\u001b[0m\u001b[0m\n",
      "\u001b[1;32m~\\AppData\\Local\\Temp/ipykernel_8864/3002746802.py\u001b[0m in \u001b[0;36mcollisions\u001b[1;34m(x, v)\u001b[0m\n\u001b[0;32m     39\u001b[0m \u001b[1;33m\u001b[0m\u001b[0m\n\u001b[0;32m     40\u001b[0m     \u001b[0mnbrs\u001b[0m \u001b[1;33m=\u001b[0m \u001b[0mNearestNeighbors\u001b[0m\u001b[1;33m(\u001b[0m\u001b[0mn_neighbors\u001b[0m\u001b[1;33m=\u001b[0m\u001b[1;36m2\u001b[0m\u001b[1;33m,\u001b[0m \u001b[0malgorithm\u001b[0m\u001b[1;33m=\u001b[0m\u001b[1;34m'ball_tree'\u001b[0m\u001b[1;33m)\u001b[0m\u001b[1;33m.\u001b[0m\u001b[0mfit\u001b[0m\u001b[1;33m(\u001b[0m\u001b[0mx\u001b[0m\u001b[1;33m)\u001b[0m\u001b[1;33m\u001b[0m\u001b[1;33m\u001b[0m\u001b[0m\n\u001b[1;32m---> 41\u001b[1;33m     \u001b[0mdistances\u001b[0m\u001b[1;33m,\u001b[0m \u001b[0mindices\u001b[0m \u001b[1;33m=\u001b[0m \u001b[0mnbrs\u001b[0m\u001b[1;33m.\u001b[0m\u001b[0mkneighbors\u001b[0m\u001b[1;33m(\u001b[0m\u001b[0mx\u001b[0m\u001b[1;33m)\u001b[0m\u001b[1;33m\u001b[0m\u001b[1;33m\u001b[0m\u001b[0m\n\u001b[0m\u001b[0;32m     42\u001b[0m     \u001b[0mindices\u001b[0m \u001b[1;33m=\u001b[0m \u001b[0mnp\u001b[0m\u001b[1;33m.\u001b[0m\u001b[0msort\u001b[0m\u001b[1;33m(\u001b[0m\u001b[0mindices\u001b[0m\u001b[1;33m[\u001b[0m\u001b[0mdistances\u001b[0m\u001b[1;33m[\u001b[0m\u001b[1;33m:\u001b[0m\u001b[1;33m,\u001b[0m\u001b[1;36m1\u001b[0m\u001b[1;33m]\u001b[0m\u001b[1;33m<=\u001b[0m\u001b[1;36m2\u001b[0m\u001b[1;33m*\u001b[0m\u001b[0mR_particles\u001b[0m\u001b[1;33m]\u001b[0m\u001b[1;33m,\u001b[0m\u001b[0maxis\u001b[0m\u001b[1;33m=\u001b[0m\u001b[1;36m1\u001b[0m\u001b[1;33m)\u001b[0m\u001b[1;33m\u001b[0m\u001b[1;33m\u001b[0m\u001b[0m\n\u001b[0;32m     43\u001b[0m     \u001b[1;32mfor\u001b[0m \u001b[0mi\u001b[0m \u001b[1;32min\u001b[0m \u001b[0mrange\u001b[0m\u001b[1;33m(\u001b[0m\u001b[1;36m0\u001b[0m\u001b[1;33m,\u001b[0m\u001b[0mlen\u001b[0m\u001b[1;33m(\u001b[0m\u001b[0mindices\u001b[0m\u001b[1;33m)\u001b[0m\u001b[1;33m,\u001b[0m\u001b[1;36m2\u001b[0m\u001b[1;33m)\u001b[0m\u001b[1;33m:\u001b[0m\u001b[1;33m\u001b[0m\u001b[1;33m\u001b[0m\u001b[0m\n",
      "\u001b[1;32m~\\AppData\\Local\\Packages\\PythonSoftwareFoundation.Python.3.9_qbz5n2kfra8p0\\LocalCache\\local-packages\\Python39\\site-packages\\sklearn\\neighbors\\_base.py\u001b[0m in \u001b[0;36mkneighbors\u001b[1;34m(self, X, n_neighbors, return_distance)\u001b[0m\n\u001b[0;32m    774\u001b[0m             \u001b[1;32melse\u001b[0m\u001b[1;33m:\u001b[0m\u001b[1;33m\u001b[0m\u001b[1;33m\u001b[0m\u001b[0m\n\u001b[0;32m    775\u001b[0m                 \u001b[0mparallel_kwargs\u001b[0m \u001b[1;33m=\u001b[0m \u001b[1;33m{\u001b[0m\u001b[1;34m\"prefer\"\u001b[0m\u001b[1;33m:\u001b[0m \u001b[1;34m\"threads\"\u001b[0m\u001b[1;33m}\u001b[0m\u001b[1;33m\u001b[0m\u001b[1;33m\u001b[0m\u001b[0m\n\u001b[1;32m--> 776\u001b[1;33m             chunked_results = Parallel(n_jobs, **parallel_kwargs)(\n\u001b[0m\u001b[0;32m    777\u001b[0m                 delayed(_tree_query_parallel_helper)(\n\u001b[0;32m    778\u001b[0m                     \u001b[0mself\u001b[0m\u001b[1;33m.\u001b[0m\u001b[0m_tree\u001b[0m\u001b[1;33m,\u001b[0m \u001b[0mX\u001b[0m\u001b[1;33m[\u001b[0m\u001b[0ms\u001b[0m\u001b[1;33m]\u001b[0m\u001b[1;33m,\u001b[0m \u001b[0mn_neighbors\u001b[0m\u001b[1;33m,\u001b[0m \u001b[0mreturn_distance\u001b[0m\u001b[1;33m\u001b[0m\u001b[1;33m\u001b[0m\u001b[0m\n",
      "\u001b[1;32m~\\AppData\\Local\\Packages\\PythonSoftwareFoundation.Python.3.9_qbz5n2kfra8p0\\LocalCache\\local-packages\\Python39\\site-packages\\joblib\\parallel.py\u001b[0m in \u001b[0;36m__call__\u001b[1;34m(self, iterable)\u001b[0m\n\u001b[0;32m   1041\u001b[0m             \u001b[1;31m# remaining jobs.\u001b[0m\u001b[1;33m\u001b[0m\u001b[1;33m\u001b[0m\u001b[0m\n\u001b[0;32m   1042\u001b[0m             \u001b[0mself\u001b[0m\u001b[1;33m.\u001b[0m\u001b[0m_iterating\u001b[0m \u001b[1;33m=\u001b[0m \u001b[1;32mFalse\u001b[0m\u001b[1;33m\u001b[0m\u001b[1;33m\u001b[0m\u001b[0m\n\u001b[1;32m-> 1043\u001b[1;33m             \u001b[1;32mif\u001b[0m \u001b[0mself\u001b[0m\u001b[1;33m.\u001b[0m\u001b[0mdispatch_one_batch\u001b[0m\u001b[1;33m(\u001b[0m\u001b[0miterator\u001b[0m\u001b[1;33m)\u001b[0m\u001b[1;33m:\u001b[0m\u001b[1;33m\u001b[0m\u001b[1;33m\u001b[0m\u001b[0m\n\u001b[0m\u001b[0;32m   1044\u001b[0m                 \u001b[0mself\u001b[0m\u001b[1;33m.\u001b[0m\u001b[0m_iterating\u001b[0m \u001b[1;33m=\u001b[0m \u001b[0mself\u001b[0m\u001b[1;33m.\u001b[0m\u001b[0m_original_iterator\u001b[0m \u001b[1;32mis\u001b[0m \u001b[1;32mnot\u001b[0m \u001b[1;32mNone\u001b[0m\u001b[1;33m\u001b[0m\u001b[1;33m\u001b[0m\u001b[0m\n\u001b[0;32m   1045\u001b[0m \u001b[1;33m\u001b[0m\u001b[0m\n",
      "\u001b[1;32m~\\AppData\\Local\\Packages\\PythonSoftwareFoundation.Python.3.9_qbz5n2kfra8p0\\LocalCache\\local-packages\\Python39\\site-packages\\joblib\\parallel.py\u001b[0m in \u001b[0;36mdispatch_one_batch\u001b[1;34m(self, iterator)\u001b[0m\n\u001b[0;32m    859\u001b[0m                 \u001b[1;32mreturn\u001b[0m \u001b[1;32mFalse\u001b[0m\u001b[1;33m\u001b[0m\u001b[1;33m\u001b[0m\u001b[0m\n\u001b[0;32m    860\u001b[0m             \u001b[1;32melse\u001b[0m\u001b[1;33m:\u001b[0m\u001b[1;33m\u001b[0m\u001b[1;33m\u001b[0m\u001b[0m\n\u001b[1;32m--> 861\u001b[1;33m                 \u001b[0mself\u001b[0m\u001b[1;33m.\u001b[0m\u001b[0m_dispatch\u001b[0m\u001b[1;33m(\u001b[0m\u001b[0mtasks\u001b[0m\u001b[1;33m)\u001b[0m\u001b[1;33m\u001b[0m\u001b[1;33m\u001b[0m\u001b[0m\n\u001b[0m\u001b[0;32m    862\u001b[0m                 \u001b[1;32mreturn\u001b[0m \u001b[1;32mTrue\u001b[0m\u001b[1;33m\u001b[0m\u001b[1;33m\u001b[0m\u001b[0m\n\u001b[0;32m    863\u001b[0m \u001b[1;33m\u001b[0m\u001b[0m\n",
      "\u001b[1;32m~\\AppData\\Local\\Packages\\PythonSoftwareFoundation.Python.3.9_qbz5n2kfra8p0\\LocalCache\\local-packages\\Python39\\site-packages\\joblib\\parallel.py\u001b[0m in \u001b[0;36m_dispatch\u001b[1;34m(self, batch)\u001b[0m\n\u001b[0;32m    777\u001b[0m         \u001b[1;32mwith\u001b[0m \u001b[0mself\u001b[0m\u001b[1;33m.\u001b[0m\u001b[0m_lock\u001b[0m\u001b[1;33m:\u001b[0m\u001b[1;33m\u001b[0m\u001b[1;33m\u001b[0m\u001b[0m\n\u001b[0;32m    778\u001b[0m             \u001b[0mjob_idx\u001b[0m \u001b[1;33m=\u001b[0m \u001b[0mlen\u001b[0m\u001b[1;33m(\u001b[0m\u001b[0mself\u001b[0m\u001b[1;33m.\u001b[0m\u001b[0m_jobs\u001b[0m\u001b[1;33m)\u001b[0m\u001b[1;33m\u001b[0m\u001b[1;33m\u001b[0m\u001b[0m\n\u001b[1;32m--> 779\u001b[1;33m             \u001b[0mjob\u001b[0m \u001b[1;33m=\u001b[0m \u001b[0mself\u001b[0m\u001b[1;33m.\u001b[0m\u001b[0m_backend\u001b[0m\u001b[1;33m.\u001b[0m\u001b[0mapply_async\u001b[0m\u001b[1;33m(\u001b[0m\u001b[0mbatch\u001b[0m\u001b[1;33m,\u001b[0m \u001b[0mcallback\u001b[0m\u001b[1;33m=\u001b[0m\u001b[0mcb\u001b[0m\u001b[1;33m)\u001b[0m\u001b[1;33m\u001b[0m\u001b[1;33m\u001b[0m\u001b[0m\n\u001b[0m\u001b[0;32m    780\u001b[0m             \u001b[1;31m# A job can complete so quickly than its callback is\u001b[0m\u001b[1;33m\u001b[0m\u001b[1;33m\u001b[0m\u001b[0m\n\u001b[0;32m    781\u001b[0m             \u001b[1;31m# called before we get here, causing self._jobs to\u001b[0m\u001b[1;33m\u001b[0m\u001b[1;33m\u001b[0m\u001b[0m\n",
      "\u001b[1;32m~\\AppData\\Local\\Packages\\PythonSoftwareFoundation.Python.3.9_qbz5n2kfra8p0\\LocalCache\\local-packages\\Python39\\site-packages\\joblib\\_parallel_backends.py\u001b[0m in \u001b[0;36mapply_async\u001b[1;34m(self, func, callback)\u001b[0m\n\u001b[0;32m    206\u001b[0m     \u001b[1;32mdef\u001b[0m \u001b[0mapply_async\u001b[0m\u001b[1;33m(\u001b[0m\u001b[0mself\u001b[0m\u001b[1;33m,\u001b[0m \u001b[0mfunc\u001b[0m\u001b[1;33m,\u001b[0m \u001b[0mcallback\u001b[0m\u001b[1;33m=\u001b[0m\u001b[1;32mNone\u001b[0m\u001b[1;33m)\u001b[0m\u001b[1;33m:\u001b[0m\u001b[1;33m\u001b[0m\u001b[1;33m\u001b[0m\u001b[0m\n\u001b[0;32m    207\u001b[0m         \u001b[1;34m\"\"\"Schedule a func to be run\"\"\"\u001b[0m\u001b[1;33m\u001b[0m\u001b[1;33m\u001b[0m\u001b[0m\n\u001b[1;32m--> 208\u001b[1;33m         \u001b[0mresult\u001b[0m \u001b[1;33m=\u001b[0m \u001b[0mImmediateResult\u001b[0m\u001b[1;33m(\u001b[0m\u001b[0mfunc\u001b[0m\u001b[1;33m)\u001b[0m\u001b[1;33m\u001b[0m\u001b[1;33m\u001b[0m\u001b[0m\n\u001b[0m\u001b[0;32m    209\u001b[0m         \u001b[1;32mif\u001b[0m \u001b[0mcallback\u001b[0m\u001b[1;33m:\u001b[0m\u001b[1;33m\u001b[0m\u001b[1;33m\u001b[0m\u001b[0m\n\u001b[0;32m    210\u001b[0m             \u001b[0mcallback\u001b[0m\u001b[1;33m(\u001b[0m\u001b[0mresult\u001b[0m\u001b[1;33m)\u001b[0m\u001b[1;33m\u001b[0m\u001b[1;33m\u001b[0m\u001b[0m\n",
      "\u001b[1;32m~\\AppData\\Local\\Packages\\PythonSoftwareFoundation.Python.3.9_qbz5n2kfra8p0\\LocalCache\\local-packages\\Python39\\site-packages\\joblib\\_parallel_backends.py\u001b[0m in \u001b[0;36m__init__\u001b[1;34m(self, batch)\u001b[0m\n\u001b[0;32m    570\u001b[0m         \u001b[1;31m# Don't delay the application, to avoid keeping the input\u001b[0m\u001b[1;33m\u001b[0m\u001b[1;33m\u001b[0m\u001b[0m\n\u001b[0;32m    571\u001b[0m         \u001b[1;31m# arguments in memory\u001b[0m\u001b[1;33m\u001b[0m\u001b[1;33m\u001b[0m\u001b[0m\n\u001b[1;32m--> 572\u001b[1;33m         \u001b[0mself\u001b[0m\u001b[1;33m.\u001b[0m\u001b[0mresults\u001b[0m \u001b[1;33m=\u001b[0m \u001b[0mbatch\u001b[0m\u001b[1;33m(\u001b[0m\u001b[1;33m)\u001b[0m\u001b[1;33m\u001b[0m\u001b[1;33m\u001b[0m\u001b[0m\n\u001b[0m\u001b[0;32m    573\u001b[0m \u001b[1;33m\u001b[0m\u001b[0m\n\u001b[0;32m    574\u001b[0m     \u001b[1;32mdef\u001b[0m \u001b[0mget\u001b[0m\u001b[1;33m(\u001b[0m\u001b[0mself\u001b[0m\u001b[1;33m)\u001b[0m\u001b[1;33m:\u001b[0m\u001b[1;33m\u001b[0m\u001b[1;33m\u001b[0m\u001b[0m\n",
      "\u001b[1;32m~\\AppData\\Local\\Packages\\PythonSoftwareFoundation.Python.3.9_qbz5n2kfra8p0\\LocalCache\\local-packages\\Python39\\site-packages\\joblib\\parallel.py\u001b[0m in \u001b[0;36m__call__\u001b[1;34m(self)\u001b[0m\n\u001b[0;32m    260\u001b[0m         \u001b[1;31m# change the default number of processes to -1\u001b[0m\u001b[1;33m\u001b[0m\u001b[1;33m\u001b[0m\u001b[0m\n\u001b[0;32m    261\u001b[0m         \u001b[1;32mwith\u001b[0m \u001b[0mparallel_backend\u001b[0m\u001b[1;33m(\u001b[0m\u001b[0mself\u001b[0m\u001b[1;33m.\u001b[0m\u001b[0m_backend\u001b[0m\u001b[1;33m,\u001b[0m \u001b[0mn_jobs\u001b[0m\u001b[1;33m=\u001b[0m\u001b[0mself\u001b[0m\u001b[1;33m.\u001b[0m\u001b[0m_n_jobs\u001b[0m\u001b[1;33m)\u001b[0m\u001b[1;33m:\u001b[0m\u001b[1;33m\u001b[0m\u001b[1;33m\u001b[0m\u001b[0m\n\u001b[1;32m--> 262\u001b[1;33m             return [func(*args, **kwargs)\n\u001b[0m\u001b[0;32m    263\u001b[0m                     for func, args, kwargs in self.items]\n\u001b[0;32m    264\u001b[0m \u001b[1;33m\u001b[0m\u001b[0m\n",
      "\u001b[1;32m~\\AppData\\Local\\Packages\\PythonSoftwareFoundation.Python.3.9_qbz5n2kfra8p0\\LocalCache\\local-packages\\Python39\\site-packages\\joblib\\parallel.py\u001b[0m in \u001b[0;36m<listcomp>\u001b[1;34m(.0)\u001b[0m\n\u001b[0;32m    260\u001b[0m         \u001b[1;31m# change the default number of processes to -1\u001b[0m\u001b[1;33m\u001b[0m\u001b[1;33m\u001b[0m\u001b[0m\n\u001b[0;32m    261\u001b[0m         \u001b[1;32mwith\u001b[0m \u001b[0mparallel_backend\u001b[0m\u001b[1;33m(\u001b[0m\u001b[0mself\u001b[0m\u001b[1;33m.\u001b[0m\u001b[0m_backend\u001b[0m\u001b[1;33m,\u001b[0m \u001b[0mn_jobs\u001b[0m\u001b[1;33m=\u001b[0m\u001b[0mself\u001b[0m\u001b[1;33m.\u001b[0m\u001b[0m_n_jobs\u001b[0m\u001b[1;33m)\u001b[0m\u001b[1;33m:\u001b[0m\u001b[1;33m\u001b[0m\u001b[1;33m\u001b[0m\u001b[0m\n\u001b[1;32m--> 262\u001b[1;33m             return [func(*args, **kwargs)\n\u001b[0m\u001b[0;32m    263\u001b[0m                     for func, args, kwargs in self.items]\n\u001b[0;32m    264\u001b[0m \u001b[1;33m\u001b[0m\u001b[0m\n",
      "\u001b[1;32m~\\AppData\\Local\\Packages\\PythonSoftwareFoundation.Python.3.9_qbz5n2kfra8p0\\LocalCache\\local-packages\\Python39\\site-packages\\sklearn\\utils\\fixes.py\u001b[0m in \u001b[0;36m__call__\u001b[1;34m(self, *args, **kwargs)\u001b[0m\n\u001b[0;32m    214\u001b[0m     \u001b[1;32mdef\u001b[0m \u001b[0m__call__\u001b[0m\u001b[1;33m(\u001b[0m\u001b[0mself\u001b[0m\u001b[1;33m,\u001b[0m \u001b[1;33m*\u001b[0m\u001b[0margs\u001b[0m\u001b[1;33m,\u001b[0m \u001b[1;33m**\u001b[0m\u001b[0mkwargs\u001b[0m\u001b[1;33m)\u001b[0m\u001b[1;33m:\u001b[0m\u001b[1;33m\u001b[0m\u001b[1;33m\u001b[0m\u001b[0m\n\u001b[0;32m    215\u001b[0m         \u001b[1;32mwith\u001b[0m \u001b[0mconfig_context\u001b[0m\u001b[1;33m(\u001b[0m\u001b[1;33m**\u001b[0m\u001b[0mself\u001b[0m\u001b[1;33m.\u001b[0m\u001b[0mconfig\u001b[0m\u001b[1;33m)\u001b[0m\u001b[1;33m:\u001b[0m\u001b[1;33m\u001b[0m\u001b[1;33m\u001b[0m\u001b[0m\n\u001b[1;32m--> 216\u001b[1;33m             \u001b[1;32mreturn\u001b[0m \u001b[0mself\u001b[0m\u001b[1;33m.\u001b[0m\u001b[0mfunction\u001b[0m\u001b[1;33m(\u001b[0m\u001b[1;33m*\u001b[0m\u001b[0margs\u001b[0m\u001b[1;33m,\u001b[0m \u001b[1;33m**\u001b[0m\u001b[0mkwargs\u001b[0m\u001b[1;33m)\u001b[0m\u001b[1;33m\u001b[0m\u001b[1;33m\u001b[0m\u001b[0m\n\u001b[0m\u001b[0;32m    217\u001b[0m \u001b[1;33m\u001b[0m\u001b[0m\n\u001b[0;32m    218\u001b[0m \u001b[1;33m\u001b[0m\u001b[0m\n",
      "\u001b[1;32m~\\AppData\\Local\\Packages\\PythonSoftwareFoundation.Python.3.9_qbz5n2kfra8p0\\LocalCache\\local-packages\\Python39\\site-packages\\sklearn\\neighbors\\_base.py\u001b[0m in \u001b[0;36m_tree_query_parallel_helper\u001b[1;34m(tree, *args, **kwargs)\u001b[0m\n\u001b[0;32m    598\u001b[0m     \u001b[0munder\u001b[0m \u001b[0mPyPy\u001b[0m\u001b[1;33m.\u001b[0m\u001b[1;33m\u001b[0m\u001b[1;33m\u001b[0m\u001b[0m\n\u001b[0;32m    599\u001b[0m     \"\"\"\n\u001b[1;32m--> 600\u001b[1;33m     \u001b[1;32mreturn\u001b[0m \u001b[0mtree\u001b[0m\u001b[1;33m.\u001b[0m\u001b[0mquery\u001b[0m\u001b[1;33m(\u001b[0m\u001b[1;33m*\u001b[0m\u001b[0margs\u001b[0m\u001b[1;33m,\u001b[0m \u001b[1;33m**\u001b[0m\u001b[0mkwargs\u001b[0m\u001b[1;33m)\u001b[0m\u001b[1;33m\u001b[0m\u001b[1;33m\u001b[0m\u001b[0m\n\u001b[0m\u001b[0;32m    601\u001b[0m \u001b[1;33m\u001b[0m\u001b[0m\n\u001b[0;32m    602\u001b[0m \u001b[1;33m\u001b[0m\u001b[0m\n",
      "\u001b[1;31mKeyboardInterrupt\u001b[0m: "
     ]
    }
   ],
   "source": [
    "#rng = 3000 # Время эксперимента определяется , как dt*rng*ips\n",
    "#ips = 10\n",
    "#print(rng*ips*dt)\n",
    "#D1=0.1\n",
    "#KL_time_history_mid1,  KL_time_history,KL_collisions_history,collisions_history = stat(iteration=iteration2, count = 20, rng= rng, ips = ips)"
   ]
  }
 ],
 "metadata": {
  "interpreter": {
   "hash": "690a9cd710bfe942c391f90ef8534bcd8164e71864b086e08c2a2bf19a5ccfe2"
  },
  "kernelspec": {
   "display_name": "Python 3.9.13 64-bit (windows store)",
   "language": "python",
   "name": "python3"
  },
  "language_info": {
   "codemirror_mode": {
    "name": "ipython",
    "version": 3
   },
   "file_extension": ".py",
   "mimetype": "text/x-python",
   "name": "python",
   "nbconvert_exporter": "python",
   "pygments_lexer": "ipython3",
   "version": "3.9.13"
  },
  "orig_nbformat": 4
 },
 "nbformat": 4,
 "nbformat_minor": 2
}
