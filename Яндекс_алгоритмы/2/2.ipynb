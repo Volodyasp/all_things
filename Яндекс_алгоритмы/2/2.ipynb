{
 "cells": [
  {
   "cell_type": "code",
   "execution_count": 19,
   "metadata": {},
   "outputs": [
    {
     "name": "stdout",
     "output_type": "stream",
     "text": [
      "{1: 1}\n",
      "-1 1\n",
      "{1: 1}\n",
      "1\n"
     ]
    }
   ],
   "source": [
    "k= list(map(int, input().split()))# 1 -house, 2 - shop\n",
    "\n",
    "def eq(k):\n",
    "    house, shop=-1,-1\n",
    "    dct={}\n",
    "    for i in range(0,len(k)):\n",
    "        if k[i]==1:\n",
    "            house=i\n",
    "            if shop!=-1: dct[house]=house-shop\n",
    "        elif k[i]==2:\n",
    "            shop=i\n",
    "            \n",
    "    house, shop=-1,-1\n",
    "    for i in range(len(k)-1,-1,-1):\n",
    "        if k[i]==1:\n",
    "            house=i\n",
    "            if shop!=-1: \n",
    "                if house in dct:\n",
    "                    dct[house]=min(dct[house],-(house-shop))\n",
    "                else:\n",
    "                    dct[house]=-(house-shop)\n",
    "        elif k[i]==2:\n",
    "            shop=i\n",
    "    max=0\n",
    "    for key in dct:\n",
    "        if dct[key]>max:\n",
    "            max=dct[key]\n",
    "\n",
    "    print(max)\n",
    "\n",
    "\n",
    "eq(k)\n",
    "    \n",
    "        \n",
    "\n",
    "\n"
   ]
  },
  {
   "cell_type": "markdown",
   "metadata": {},
   "source": [
    "2 1 1 2 1"
   ]
  }
 ],
 "metadata": {
  "kernelspec": {
   "display_name": "Python 3.9.13 64-bit (microsoft store)",
   "language": "python",
   "name": "python3"
  },
  "language_info": {
   "codemirror_mode": {
    "name": "ipython",
    "version": 3
   },
   "file_extension": ".py",
   "mimetype": "text/x-python",
   "name": "python",
   "nbconvert_exporter": "python",
   "pygments_lexer": "ipython3",
   "version": "3.9.13"
  },
  "orig_nbformat": 4,
  "vscode": {
   "interpreter": {
    "hash": "690a9cd710bfe942c391f90ef8534bcd8164e71864b086e08c2a2bf19a5ccfe2"
   }
  }
 },
 "nbformat": 4,
 "nbformat_minor": 2
}
