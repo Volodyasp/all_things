{
 "cells": [
  {
   "cell_type": "code",
   "execution_count": 7,
   "metadata": {},
   "outputs": [
    {
     "name": "stdout",
     "output_type": "stream",
     "text": [
      "6 8\n"
     ]
    }
   ],
   "source": [
    "l,k= map(int, input().split())\n",
    "s= list(map(int, input().split()))\n",
    "\n",
    "def solution(l,k,s):\n",
    "    mid=int(l/2)\n",
    "    ans=[]\n",
    "    if (l % 2 ==1) and (int(l/2) in s):\n",
    "        print(int(l/2))\n",
    "    else:\n",
    "        if l % 2 ==0: mid= int(l/2)-0.5\n",
    "        for i in range(len(s)-1):\n",
    "            if (s[i]<mid) and (s[i+1]>mid):\n",
    "                print(s[i],s[i+1])\n",
    "                break \n",
    "                \n",
    "\n",
    "\n",
    "solution(l,k,s)"
   ]
  },
  {
   "cell_type": "markdown",
   "metadata": {},
   "source": []
  }
 ],
 "metadata": {
  "kernelspec": {
   "display_name": "Python 3.9.13 64-bit (microsoft store)",
   "language": "python",
   "name": "python3"
  },
  "language_info": {
   "codemirror_mode": {
    "name": "ipython",
    "version": 3
   },
   "file_extension": ".py",
   "mimetype": "text/x-python",
   "name": "python",
   "nbconvert_exporter": "python",
   "pygments_lexer": "ipython3",
   "version": "3.9.13"
  },
  "orig_nbformat": 4,
  "vscode": {
   "interpreter": {
    "hash": "690a9cd710bfe942c391f90ef8534bcd8164e71864b086e08c2a2bf19a5ccfe2"
   }
  }
 },
 "nbformat": 4,
 "nbformat_minor": 2
}
