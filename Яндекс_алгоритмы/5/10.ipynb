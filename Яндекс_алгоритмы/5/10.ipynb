{
 "cells": [
  {
   "cell_type": "code",
   "execution_count": 5,
   "metadata": {},
   "outputs": [
    {
     "name": "stdout",
     "output_type": "stream",
     "text": [
      "[1, 1, 2, 3, 4, 8, 9, 10, 20, 67, 390]\n"
     ]
    }
   ],
   "source": [
    "s1= list(map(int, input().split()))\n",
    "s2= list(map(int, input().split()))\n",
    "\n",
    "ans=[]\n",
    "l1= 0\n",
    "l2= 0\n",
    "flag= True\n",
    "while flag:\n",
    "    while flag and s1[l1]<s2[l2]:\n",
    "        ans.append(s1[l1])\n",
    "        l1+=1\n",
    "        if l1==len(s1):\n",
    "            flag= False\n",
    "    \n",
    "    while flag and s2[l2]<= s1[l1]:\n",
    "        ans.append(s2[l2])\n",
    "        l2+=1\n",
    "        if l2==len(s2):\n",
    "            flag= False\n",
    "\n",
    "if l1==len(s1):\n",
    "    ans+=s2[l2:]\n",
    "else:\n",
    "    ans+=s1[l1:]\n",
    "\n",
    "\n",
    "print(ans)\n",
    "    "
   ]
  }
 ],
 "metadata": {
  "kernelspec": {
   "display_name": "Python 3.9.13 64-bit (microsoft store)",
   "language": "python",
   "name": "python3"
  },
  "language_info": {
   "codemirror_mode": {
    "name": "ipython",
    "version": 3
   },
   "file_extension": ".py",
   "mimetype": "text/x-python",
   "name": "python",
   "nbconvert_exporter": "python",
   "pygments_lexer": "ipython3",
   "version": "3.9.13"
  },
  "orig_nbformat": 4,
  "vscode": {
   "interpreter": {
    "hash": "690a9cd710bfe942c391f90ef8534bcd8164e71864b086e08c2a2bf19a5ccfe2"
   }
  }
 },
 "nbformat": 4,
 "nbformat_minor": 2
}
