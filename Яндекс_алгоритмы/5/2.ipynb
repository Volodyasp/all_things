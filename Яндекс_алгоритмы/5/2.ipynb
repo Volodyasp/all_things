{
 "cells": [
  {
   "cell_type": "code",
   "execution_count": 14,
   "metadata": {},
   "outputs": [
    {
     "name": "stdout",
     "output_type": "stream",
     "text": [
      "[-10, -20]\n",
      "[0, -10, -30]\n",
      "-10\n",
      "-10\n",
      "-10\n"
     ]
    }
   ],
   "source": [
    "n= int(input())\n",
    "nums= list(map(int, input().split()))\n",
    "print(nums)\n",
    "\n",
    "def makeprefixsum(nums):\n",
    "    s= [0 for _ in range(len(nums)+1)]\n",
    "    for i in range(1,len(s)):\n",
    "        s[i]=s[i-1]+nums[i-1]\n",
    "    return s\n",
    "\n",
    "prfx= makeprefixsum(nums)\n",
    "print(prfx)\n",
    "mn=0\n",
    "mx=prfx[1]\n",
    "for i in range(1,len(prfx)):\n",
    "    print(mx)\n",
    "    if prfx[i]-mn>mx:\n",
    "        mx=prfx[i]-mn\n",
    "    if prfx[i]<mn:\n",
    "        mn= prfx[i]\n",
    "\n",
    "print(mx)"
   ]
  }
 ],
 "metadata": {
  "kernelspec": {
   "display_name": "Python 3.9.13 64-bit (microsoft store)",
   "language": "python",
   "name": "python3"
  },
  "language_info": {
   "codemirror_mode": {
    "name": "ipython",
    "version": 3
   },
   "file_extension": ".py",
   "mimetype": "text/x-python",
   "name": "python",
   "nbconvert_exporter": "python",
   "pygments_lexer": "ipython3",
   "version": "3.9.13 (tags/v3.9.13:6de2ca5, May 17 2022, 16:36:42) [MSC v.1929 64 bit (AMD64)]"
  },
  "orig_nbformat": 4,
  "vscode": {
   "interpreter": {
    "hash": "690a9cd710bfe942c391f90ef8534bcd8164e71864b086e08c2a2bf19a5ccfe2"
   }
  }
 },
 "nbformat": 4,
 "nbformat_minor": 2
}
