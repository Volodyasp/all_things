{
 "cells": [
  {
   "cell_type": "code",
   "execution_count": 10,
   "metadata": {},
   "outputs": [
    {
     "name": "stdout",
     "output_type": "stream",
     "text": [
      "[1]\n",
      "[0, 0]\n"
     ]
    }
   ],
   "source": [
    "N= list(map(int, input().split()))\n",
    "print(N)\n",
    "def makeprefixsum(N): # [L, R)\n",
    "    s= [0 for _ in range(len(N)+1)]\n",
    "    for i in range(1, len(s)):\n",
    "        if N[i-1]==0:\n",
    "            s[i]=1+s[i-1]\n",
    "        else:\n",
    "            s[i]=s[i-1]\n",
    "    return s\n",
    "\n",
    "m= list(map(int, input().split()))\n",
    "s= makeprefixsum(N)\n",
    "print(s)\n",
    "while m!=[]:\n",
    "    print(s[m[1]]-s[m[0]])\n",
    "    m= list(map(int, input().split()))\n",
    "\n",
    "\n",
    "\n"
   ]
  }
 ],
 "metadata": {
  "kernelspec": {
   "display_name": "Python 3.9.13 64-bit (microsoft store)",
   "language": "python",
   "name": "python3"
  },
  "language_info": {
   "codemirror_mode": {
    "name": "ipython",
    "version": 3
   },
   "file_extension": ".py",
   "mimetype": "text/x-python",
   "name": "python",
   "nbconvert_exporter": "python",
   "pygments_lexer": "ipython3",
   "version": "3.9.13"
  },
  "orig_nbformat": 4,
  "vscode": {
   "interpreter": {
    "hash": "690a9cd710bfe942c391f90ef8534bcd8164e71864b086e08c2a2bf19a5ccfe2"
   }
  }
 },
 "nbformat": 4,
 "nbformat_minor": 2
}
