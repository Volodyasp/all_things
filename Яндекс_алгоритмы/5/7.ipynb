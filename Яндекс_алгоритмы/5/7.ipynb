{
 "cells": [
  {
   "cell_type": "code",
   "execution_count": 7,
   "metadata": {},
   "outputs": [
    {
     "name": "stdout",
     "output_type": "stream",
     "text": [
      "[1, -1, 0, 2, 3, -5]\n",
      "[0, 1, 0, 0, 2, 5, 0]\n",
      "6.0\n"
     ]
    }
   ],
   "source": [
    "s= list(map(int, input().split()))\n",
    "print(s)\n",
    "def makeprefixsum(s):\n",
    "    l= [0 for _ in range(len(s)+1)]\n",
    "    for i in range(1,len(l)):\n",
    "        l[i]= l[i-1]+s[i-1]\n",
    "    return l\n",
    "\n",
    "def fact(n):\n",
    "    if n==0:\n",
    "        return 1\n",
    "    else:\n",
    "        return n*fact(n-1)\n",
    "\n",
    "def C_ab(k,n):\n",
    "    return fact(n)/(fact(k)*fact(n-k))\n",
    "\n",
    "\n",
    "prx= makeprefixsum(s)\n",
    "print(prx)\n",
    "dct= {}\n",
    "for x in prx:\n",
    "    if x not in dct:\n",
    "        dct[x]=0\n",
    "    dct[x]+=1\n",
    "\n",
    "ans=0\n",
    "for key in dct:\n",
    "    if dct[key]>=2:\n",
    "        ans+=C_ab(2, dct[key])\n",
    "\n",
    "print(ans)\n",
    "\n"
   ]
  }
 ],
 "metadata": {
  "kernelspec": {
   "display_name": "Python 3.9.13 64-bit (microsoft store)",
   "language": "python",
   "name": "python3"
  },
  "language_info": {
   "codemirror_mode": {
    "name": "ipython",
    "version": 3
   },
   "file_extension": ".py",
   "mimetype": "text/x-python",
   "name": "python",
   "nbconvert_exporter": "python",
   "pygments_lexer": "ipython3",
   "version": "3.9.13"
  },
  "orig_nbformat": 4,
  "vscode": {
   "interpreter": {
    "hash": "690a9cd710bfe942c391f90ef8534bcd8164e71864b086e08c2a2bf19a5ccfe2"
   }
  }
 },
 "nbformat": 4,
 "nbformat_minor": 2
}
