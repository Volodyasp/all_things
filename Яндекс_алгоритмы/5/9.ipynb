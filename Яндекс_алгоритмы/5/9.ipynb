{
 "cells": [
  {
   "cell_type": "code",
   "execution_count": 7,
   "metadata": {},
   "outputs": [
    {
     "name": "stdout",
     "output_type": "stream",
     "text": [
      "26\n"
     ]
    }
   ],
   "source": [
    "s=list(map(int, input().split()))\n",
    "def makeprefixsum(s):\n",
    "    l= [0 for _ in range(len(s)+1)]\n",
    "    for i in range(1,len(l)):\n",
    "        l[i]=l[i-1]+s[i-1]\n",
    "    return l\n",
    "\n",
    "\n",
    "prx= makeprefixsum(s)\n",
    "l,r= len(s)-2, len(s)-1\n",
    "ans=0 \n",
    "while l>=0 and r>=l:\n",
    "    while s[l]+s[l+1]>=s[r] and l>=0:\n",
    "        l-=1\n",
    "    ans=max(ans,prx[r+1]-prx[l+1])\n",
    "    r-=1\n",
    "    \n",
    "print(ans)\n"
   ]
  }
 ],
 "metadata": {
  "kernelspec": {
   "display_name": "Python 3.9.13 64-bit (microsoft store)",
   "language": "python",
   "name": "python3"
  },
  "language_info": {
   "codemirror_mode": {
    "name": "ipython",
    "version": 3
   },
   "file_extension": ".py",
   "mimetype": "text/x-python",
   "name": "python",
   "nbconvert_exporter": "python",
   "pygments_lexer": "ipython3",
   "version": "3.9.13"
  },
  "orig_nbformat": 4,
  "vscode": {
   "interpreter": {
    "hash": "690a9cd710bfe942c391f90ef8534bcd8164e71864b086e08c2a2bf19a5ccfe2"
   }
  }
 },
 "nbformat": 4,
 "nbformat_minor": 2
}
