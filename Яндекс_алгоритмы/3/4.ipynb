{
 "cells": [
  {
   "cell_type": "code",
   "execution_count": 18,
   "metadata": {},
   "outputs": [
    {
     "name": "stdout",
     "output_type": "stream",
     "text": [
      "10 5 6 7 8 9\n"
     ]
    }
   ],
   "source": [
    "mx= int(input())\n",
    "nums= set(input().split())\n",
    "s= input().strip()\n",
    "ans= set(map(str,[i+1 for i in range(mx)]))\n",
    "while True:\n",
    "    if s=='YES':\n",
    "        ans= ans & nums\n",
    "    else:\n",
    "        ans-= nums\n",
    "    \n",
    "    nums= set(input().split())\n",
    "    if nums=={'HELP'}: \n",
    "        break\n",
    "    s = input().strip()\n",
    "\n",
    "print(' '.join(map(str,sorted(ans))))\n",
    "\n",
    "\n"
   ]
  }
 ],
 "metadata": {
  "kernelspec": {
   "display_name": "Python 3.9.13 64-bit (microsoft store)",
   "language": "python",
   "name": "python3"
  },
  "language_info": {
   "codemirror_mode": {
    "name": "ipython",
    "version": 3
   },
   "file_extension": ".py",
   "mimetype": "text/x-python",
   "name": "python",
   "nbconvert_exporter": "python",
   "pygments_lexer": "ipython3",
   "version": "3.9.13"
  },
  "orig_nbformat": 4,
  "vscode": {
   "interpreter": {
    "hash": "690a9cd710bfe942c391f90ef8534bcd8164e71864b086e08c2a2bf19a5ccfe2"
   }
  }
 },
 "nbformat": 4,
 "nbformat_minor": 2
}
