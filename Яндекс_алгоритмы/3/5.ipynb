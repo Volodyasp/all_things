{
 "cells": [
  {
   "cell_type": "code",
   "execution_count": 26,
   "metadata": {},
   "outputs": [
    {
     "name": "stdout",
     "output_type": "stream",
     "text": [
      "A143BC\n",
      "C143AB\n"
     ]
    }
   ],
   "source": [
    "cnt= int(input())\n",
    "st=[]\n",
    "for i in range(cnt):\n",
    "    st.append(set(input().strip()))\n",
    "\n",
    "cnt= int(input())\n",
    "for i in range(cnt):\n",
    "    num= input().strip()\n",
    "    flag= True\n",
    "    for k in st:\n",
    "        if (k & set(num)) !=k:\n",
    "            flag= False\n",
    "            break\n",
    "    if flag:\n",
    "        print(num)\n"
   ]
  }
 ],
 "metadata": {
  "kernelspec": {
   "display_name": "Python 3.9.13 64-bit (microsoft store)",
   "language": "python",
   "name": "python3"
  },
  "language_info": {
   "codemirror_mode": {
    "name": "ipython",
    "version": 3
   },
   "file_extension": ".py",
   "mimetype": "text/x-python",
   "name": "python",
   "nbconvert_exporter": "python",
   "pygments_lexer": "ipython3",
   "version": "3.9.13"
  },
  "orig_nbformat": 4,
  "vscode": {
   "interpreter": {
    "hash": "690a9cd710bfe942c391f90ef8534bcd8164e71864b086e08c2a2bf19a5ccfe2"
   }
  }
 },
 "nbformat": 4,
 "nbformat_minor": 2
}
