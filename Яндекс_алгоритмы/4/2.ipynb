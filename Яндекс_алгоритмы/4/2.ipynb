{
 "cells": [
  {
   "cell_type": "code",
   "execution_count": 16,
   "metadata": {},
   "outputs": [
    {
     "name": "stdout",
     "output_type": "stream",
     "text": [
      "ivanov 900\n",
      "petr 70\n",
      "tourist 3\n"
     ]
    }
   ],
   "source": [
    "dct= {}\n",
    "with open('input.txt', 'r') as f:\n",
    "\tfor line in f:\n",
    "\t\tcll= list(line.split())\n",
    "\t\tif cll[0] not in dct:\n",
    "\t\t\tdct[cll[0]]=0\n",
    "\n",
    "\t\tdct[cll[0]]+=int(cll[1])\n",
    "\n",
    "for key in sorted(dct.keys()):\n",
    "\tprint(key, dct[key])\n"
   ]
  }
 ],
 "metadata": {
  "kernelspec": {
   "display_name": "Python 3.9.13 64-bit (microsoft store)",
   "language": "python",
   "name": "python3"
  },
  "language_info": {
   "codemirror_mode": {
    "name": "ipython",
    "version": 3
   },
   "file_extension": ".py",
   "mimetype": "text/x-python",
   "name": "python",
   "nbconvert_exporter": "python",
   "pygments_lexer": "ipython3",
   "version": "3.9.13"
  },
  "orig_nbformat": 4,
  "vscode": {
   "interpreter": {
    "hash": "690a9cd710bfe942c391f90ef8534bcd8164e71864b086e08c2a2bf19a5ccfe2"
   }
  }
 },
 "nbformat": 4,
 "nbformat_minor": 2
}
