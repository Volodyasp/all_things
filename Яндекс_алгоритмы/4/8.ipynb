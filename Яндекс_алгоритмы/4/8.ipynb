{
 "cells": [
  {
   "cell_type": "code",
   "execution_count": 7,
   "metadata": {},
   "outputs": [
    {
     "name": "stdout",
     "output_type": "stream",
     "text": [
      "    # # #\n",
      "\n",
      "#########\n",
      "\n",
      "1ajklqrsw\n"
     ]
    }
   ],
   "source": [
    "def solution(s):\n",
    "    dct= {}\n",
    "    maxcount= 0\n",
    "    for lt in s:\n",
    "        if lt not in dct:\n",
    "            dct[lt]= 0\n",
    "        dct[lt]+=1\n",
    "        maxcount= max(maxcount, dct[lt])\n",
    "\n",
    "    sortkeys= sorted(dct.keys())\n",
    "    for i in range(maxcount, 0, -1):\n",
    "        for key in sortkeys:\n",
    "            if dct[key]>=i:\n",
    "                print('#', end='')\n",
    "            else:\n",
    "                print(' ', end='')\n",
    "        \n",
    "        print('\\n')\n",
    "    \n",
    "    print(''.join([key for key in sortkeys]))\n",
    "\n",
    "\n",
    "solution(input())     \n"
   ]
  }
 ],
 "metadata": {
  "kernelspec": {
   "display_name": "Python 3.9.13 64-bit (microsoft store)",
   "language": "python",
   "name": "python3"
  },
  "language_info": {
   "codemirror_mode": {
    "name": "ipython",
    "version": 3
   },
   "file_extension": ".py",
   "mimetype": "text/x-python",
   "name": "python",
   "nbconvert_exporter": "python",
   "pygments_lexer": "ipython3",
   "version": "3.9.13"
  },
  "orig_nbformat": 4,
  "vscode": {
   "interpreter": {
    "hash": "690a9cd710bfe942c391f90ef8534bcd8164e71864b086e08c2a2bf19a5ccfe2"
   }
  }
 },
 "nbformat": 4,
 "nbformat_minor": 2
}
