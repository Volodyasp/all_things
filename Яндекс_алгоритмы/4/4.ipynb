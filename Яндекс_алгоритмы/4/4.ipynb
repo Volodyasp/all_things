{
 "cells": [
  {
   "cell_type": "code",
   "execution_count": 43,
   "metadata": {},
   "outputs": [
    {
     "name": "stdout",
     "output_type": "stream",
     "text": [
      "448.0\n",
      "[[1760.0, 1.0, 'Party 6'], [1280.0, 178.0, 'Party Two'], [800.0, 180.0, 'Party Three'], [640.0, 89.0, 'Party 5'], [0.0, 0.0, 'Party One']]\n",
      "449.0\n",
      "[[1760.0, 1.0, 'Party 6'], [1280.0, 178.0, 'Party Two'], [800.0, 180.0, 'Party Three'], [640.0, 89.0, 'Party 5'], [0.0, 0.0, 'Party One']]\n",
      "Party One 0\n",
      "Party Two 179\n",
      "Party Three 180\n",
      "Party 5 89\n",
      "Party 6 2\n"
     ]
    }
   ],
   "source": [
    "with open('input.txt','r') as f:\n",
    "    dct= {}\n",
    "    sm=0\n",
    "    keys=[]\n",
    "    for line in f:\n",
    "        lin= list(line.split())\n",
    "        key, value=' '.join(lin[:-1]), int(lin[-1])\n",
    "\n",
    "        if key not in dct:\n",
    "            dct[key]=0\n",
    "            keys.append(key)\n",
    "        dct[key]+=value\n",
    "        sm+=value\n",
    "    \n",
    "sm=sm/450\n",
    "space= 0\n",
    "adv=[]\n",
    "for key in keys:\n",
    "    l= dct[key]//sm\n",
    "    space+=l\n",
    "    adv.append([dct[key] % sm, l, key])\n",
    "    dct[key]= l\n",
    "\n",
    "k=0\n",
    "while space<450:\n",
    "    adv=sorted(adv)[::-1]\n",
    "    dct[adv[k][2]]+=1\n",
    "    k=(k+1) % len(adv)\n",
    "    space+=1\n",
    "\n",
    "for key in keys:\n",
    "    print(' '.join([key,str(int(dct[key]))]))\n",
    "\n",
    "    \n",
    "\n",
    "        \n",
    "        \n"
   ]
  },
  {
   "cell_type": "code",
   "execution_count": 44,
   "metadata": {},
   "outputs": [
    {
     "data": {
      "text/plain": [
       "450"
      ]
     },
     "execution_count": 44,
     "metadata": {},
     "output_type": "execute_result"
    }
   ],
   "source": [
    "178+180+89+3"
   ]
  }
 ],
 "metadata": {
  "kernelspec": {
   "display_name": "Python 3.9.13 64-bit (microsoft store)",
   "language": "python",
   "name": "python3"
  },
  "language_info": {
   "codemirror_mode": {
    "name": "ipython",
    "version": 3
   },
   "file_extension": ".py",
   "mimetype": "text/x-python",
   "name": "python",
   "nbconvert_exporter": "python",
   "pygments_lexer": "ipython3",
   "version": "3.9.13"
  },
  "orig_nbformat": 4,
  "vscode": {
   "interpreter": {
    "hash": "690a9cd710bfe942c391f90ef8534bcd8164e71864b086e08c2a2bf19a5ccfe2"
   }
  }
 },
 "nbformat": 4,
 "nbformat_minor": 2
}
