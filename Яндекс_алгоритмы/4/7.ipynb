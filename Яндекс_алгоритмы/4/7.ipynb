{
 "cells": [
  {
   "cell_type": "code",
   "execution_count": 2,
   "metadata": {},
   "outputs": [
    {
     "name": "stdout",
     "output_type": "stream",
     "text": [
      "False\n"
     ]
    }
   ],
   "source": [
    "a= int(input())\n",
    "b= int(input())\n",
    "\n",
    "def numbers(x):\n",
    "    ans= [0 for _ in range(10)]\n",
    "    while x!=0:\n",
    "        ans[x % 10]+=1\n",
    "        x=x//10\n",
    "    return ans\n",
    "\n",
    "diga= numbers(a)\n",
    "digb= numbers(b)\n",
    "\n",
    "flag= True\n",
    "for i in range(10):\n",
    "    if diga[i] !=digb[i]:\n",
    "        flag= False\n",
    "\n",
    "print(flag)\n",
    "\n"
   ]
  }
 ],
 "metadata": {
  "kernelspec": {
   "display_name": "Python 3.9.13 64-bit (microsoft store)",
   "language": "python",
   "name": "python3"
  },
  "language_info": {
   "codemirror_mode": {
    "name": "ipython",
    "version": 3
   },
   "file_extension": ".py",
   "mimetype": "text/x-python",
   "name": "python",
   "nbconvert_exporter": "python",
   "pygments_lexer": "ipython3",
   "version": "3.9.13"
  },
  "orig_nbformat": 4,
  "vscode": {
   "interpreter": {
    "hash": "690a9cd710bfe942c391f90ef8534bcd8164e71864b086e08c2a2bf19a5ccfe2"
   }
  }
 },
 "nbformat": 4,
 "nbformat_minor": 2
}
