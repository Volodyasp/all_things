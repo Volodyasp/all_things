{
 "cells": [
  {
   "cell_type": "code",
   "execution_count": 2,
   "metadata": {},
   "outputs": [
    {
     "name": "stdout",
     "output_type": "stream",
     "text": [
      "[1, 1, 2, 3, 4, 5, 8]\n"
     ]
    }
   ],
   "source": [
    "a=list(map(int,input().split()))\n",
    "minl= min(a)\n",
    "maxl= max(a)\n",
    "s= [0 for _ in range(0, maxl-minl+1)]\n",
    "\n",
    "for num in a:\n",
    "    s[num-minl]+=1\n",
    "\n",
    "l=0\n",
    "for i in range(len(s)):\n",
    "    for j in range(s[i]):\n",
    "        a[l]= i+minl\n",
    "        l+=1\n",
    "\n",
    "print(a)\n",
    "\n"
   ]
  }
 ],
 "metadata": {
  "kernelspec": {
   "display_name": "Python 3.9.13 64-bit (microsoft store)",
   "language": "python",
   "name": "python3"
  },
  "language_info": {
   "codemirror_mode": {
    "name": "ipython",
    "version": 3
   },
   "file_extension": ".py",
   "mimetype": "text/x-python",
   "name": "python",
   "nbconvert_exporter": "python",
   "pygments_lexer": "ipython3",
   "version": "3.9.13"
  },
  "orig_nbformat": 4,
  "vscode": {
   "interpreter": {
    "hash": "690a9cd710bfe942c391f90ef8534bcd8164e71864b086e08c2a2bf19a5ccfe2"
   }
  }
 },
 "nbformat": 4,
 "nbformat_minor": 2
}
