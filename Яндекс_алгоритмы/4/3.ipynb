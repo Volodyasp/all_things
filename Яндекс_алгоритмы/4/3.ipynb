{
 "cells": [
  {
   "cell_type": "code",
   "execution_count": 15,
   "metadata": {},
   "outputs": [
    {
     "name": "stdout",
     "output_type": "stream",
     "text": [
      "damme\n",
      "is\n",
      "name\n",
      "van\n",
      "bond\n",
      "claude\n",
      "hi\n",
      "my\n",
      "james\n",
      "jean\n",
      "what\n",
      "your\n"
     ]
    }
   ],
   "source": [
    "with open('input.txt', 'r') as file:\n",
    "    dct= {}\n",
    "    mx= 0\n",
    "    for line in file:\n",
    "        st= list(line.split())\n",
    "        for word in st:\n",
    "            if word not in dct:\n",
    "                dct[word]=0\n",
    "            dct[word]+=1\n",
    "            mx= max(mx, dct[word])\n",
    "    \n",
    "    ans=[[] for _ in range(mx+1)]\n",
    "    for key in dct.keys():\n",
    "        ans[dct[key]].append(key)\n",
    "    \n",
    "    for inx in range(mx,0,-1):\n",
    "        for word in sorted(ans[inx]):\n",
    "            print(word) "
   ]
  }
 ],
 "metadata": {
  "kernelspec": {
   "display_name": "Python 3.9.13 64-bit (microsoft store)",
   "language": "python",
   "name": "python3"
  },
  "language_info": {
   "codemirror_mode": {
    "name": "ipython",
    "version": 3
   },
   "file_extension": ".py",
   "mimetype": "text/x-python",
   "name": "python",
   "nbconvert_exporter": "python",
   "pygments_lexer": "ipython3",
   "version": "3.9.13"
  },
  "orig_nbformat": 4,
  "vscode": {
   "interpreter": {
    "hash": "690a9cd710bfe942c391f90ef8534bcd8164e71864b086e08c2a2bf19a5ccfe2"
   }
  }
 },
 "nbformat": 4,
 "nbformat_minor": 2
}
