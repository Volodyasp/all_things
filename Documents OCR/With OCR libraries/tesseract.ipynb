{
 "cells": [
  {
   "attachments": {},
   "cell_type": "markdown",
   "metadata": {},
   "source": [
    "В данном блокноте я решил использовать tesseract для считывания слов с российских паспортов. Загрузим все необходимые библиотеки и данные."
   ]
  },
  {
   "cell_type": "code",
   "execution_count": 50,
   "metadata": {},
   "outputs": [
    {
     "data": {
      "text/plain": [
       "9"
      ]
     },
     "execution_count": 50,
     "metadata": {},
     "output_type": "execute_result"
    }
   ],
   "source": [
    "from pathlib import Path\n",
    "from PIL import Image\n",
    "from matplotlib import pyplot as plt\n",
    "import pytesseract\n",
    "import cv2\n",
    "import natasha\n",
    "\n",
    "tessdata_dir_config = '--tessdata-dir \"C:\\\\Program Files (x86)\\\\Tesseract-OCR\\\\tessdata\"'\n",
    "pytesseract.pytesseract.tesseract_cmd= r\"C:\\Program Files (x86)\\Tesseract-OCR\\tesseract.exe\"\n",
    "passport_data= list(Path(r'C:\\Users\\xiaom\\Desktop\\git\\all_things\\Russian_passport_OCR\\DataForOCR').rglob('*.jpeg'))\n",
    "len(passport_data)"
   ]
  },
  {
   "attachments": {},
   "cell_type": "markdown",
   "metadata": {},
   "source": [
    "Считываем цифры и буквы русского языка с паспортов без их предварительной обработки."
   ]
  },
  {
   "cell_type": "code",
   "execution_count": 5,
   "metadata": {},
   "outputs": [],
   "source": [
    "text, images= [], list(Path(r'C:\\Users\\xiaom\\Desktop\\git\\all_things\\Russian_passport_OCR\\DataForOCR').rglob('*.jpeg'))\n",
    "for im in images:\n",
    "    im= Image.open(im)\n",
    "    text.append(pytesseract.image_to_string(im, config= tessdata_dir_config, lang='rus')) "
   ]
  },
  {
   "attachments": {},
   "cell_type": "markdown",
   "metadata": {},
   "source": [
    "Заметим, что некоторые тексты совсем не содержат ФИО. Качество распознавание оставлять желает лучшего. После этого я попробовал воспользоваться easyocr, на удивление она выдает более качественную картину."
   ]
  },
  {
   "cell_type": "code",
   "execution_count": 17,
   "metadata": {},
   "outputs": [
    {
     "name": "stdout",
     "output_type": "stream",
     "text": [
      "РОССИЙСКАЯ ФЕАЕРАЦИЯ\n",
      "\n",
      "ПАСПОРТНО-ВИЗОВЫМ ОТДЕЛЕНИЕМ\n",
      "ОВД ПРЕСНЕНСКОГО РАЙОНА\n",
      "УВД ЦАО ГОРОДА МОСКВЫ\n",
      "\n",
      "-09.11.2016 к ненаны 172-112\n",
      "\n",
      "14.06.1946\n",
      "ГОР. КУИНС\n",
      "ШТАТ НЬЮ-ЙОРК\n",
      "США.\n",
      "\n",
      "\n"
     ]
    }
   ],
   "source": [
    "print(text[0])"
   ]
  },
  {
   "cell_type": "code",
   "execution_count": 20,
   "metadata": {},
   "outputs": [
    {
     "name": "stdout",
     "output_type": "stream",
     "text": [
      "МО УФМС РОССИИ\n",
      "ПО МУРМАНСКОЙ ОБЛАСТИ\n",
      "\n",
      "В ГОРОДЕ МОНЧЕГОРСК.\n",
      "М на 05. 11.2008 — кд музеи 123 - 005\n",
      "\n",
      "стоя ХАЛАБУДИНА\n",
      "\n",
      "„= ЮЛИЯ\n",
      "оси АЛЕКСЕЕВНА\n",
      "17.10. 1988\n",
      "\n",
      "„. Г МОНЧЕГОРСК\n",
      "\n",
      "\n"
     ]
    }
   ],
   "source": [
    "print(text[1])"
   ]
  }
 ],
 "metadata": {
  "kernelspec": {
   "display_name": "Python 3",
   "language": "python",
   "name": "python3"
  },
  "language_info": {
   "codemirror_mode": {
    "name": "ipython",
    "version": 3
   },
   "file_extension": ".py",
   "mimetype": "text/x-python",
   "name": "python",
   "nbconvert_exporter": "python",
   "pygments_lexer": "ipython3",
   "version": "3.9.13 (tags/v3.9.13:6de2ca5, May 17 2022, 16:36:42) [MSC v.1929 64 bit (AMD64)]"
  },
  "orig_nbformat": 4,
  "vscode": {
   "interpreter": {
    "hash": "690a9cd710bfe942c391f90ef8534bcd8164e71864b086e08c2a2bf19a5ccfe2"
   }
  }
 },
 "nbformat": 4,
 "nbformat_minor": 2
}
