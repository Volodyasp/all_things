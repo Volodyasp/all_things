{
 "cells": [
  {
   "cell_type": "code",
   "execution_count": null,
   "metadata": {},
   "outputs": [],
   "source": [
    "def same_value(l, r, times, arr):\n",
    "    same_l = 1\n",
    "    same_r = 1\n",
    "    while arr[l] == arr[l+1] and l+1 < r:\n",
    "        l+=1\n",
    "        same_l += 1 \n",
    "    while arr[r] == arr[r-1] and l < r-1:\n",
    "        r-=1\n",
    "        same_r += 1\n",
    "        \n",
    "    return l, r, times+same_l*same_r\n",
    "\n",
    "class Solution:\n",
    "    def threeSumMulti(self, arr: List[int], target: int) -> int:\n",
    "        arr = sorted(arr)\n",
    "        times = 0\n",
    "        MOD = 10**9 + 7\n",
    "        for i in range(len(arr)-2):\n",
    "            l, r = i+1, len(arr)-1\n",
    "            while l<r:\n",
    "                if arr[l]+arr[r]>target-arr[i]:\n",
    "                    r-=1 \n",
    "                elif arr[l]+arr[r]<target-arr[i]:\n",
    "                    l+=1\n",
    "                elif arr[l] != arr[r]:\n",
    "                    l, r , times = same_value(l, r, times, arr)\n",
    "                    r-=1\n",
    "                    l+=1\n",
    "                else:\n",
    "                    times += int((r-l+1)*(r-l)/2)\n",
    "                    break       \n",
    "        return times % MOD"
   ]
  },
  {
   "cell_type": "code",
   "execution_count": 7,
   "metadata": {},
   "outputs": [
    {
     "ename": "NameError",
     "evalue": "name 'List' is not defined",
     "output_type": "error",
     "traceback": [
      "\u001b[1;31m---------------------------------------------------------------------------\u001b[0m",
      "\u001b[1;31mNameError\u001b[0m                                 Traceback (most recent call last)",
      "\u001b[1;32m~\\AppData\\Local\\Temp/ipykernel_3972/1129072640.py\u001b[0m in \u001b[0;36m<module>\u001b[1;34m\u001b[0m\n\u001b[0;32m     22\u001b[0m         \u001b[1;32mreturn\u001b[0m \u001b[0ml\u001b[0m\u001b[1;33m,\u001b[0m \u001b[0mr\u001b[0m\u001b[1;33m,\u001b[0m \u001b[0mtimes\u001b[0m\u001b[1;33m+\u001b[0m\u001b[0msame_l\u001b[0m\u001b[1;33m*\u001b[0m\u001b[0msame_r\u001b[0m\u001b[1;33m\u001b[0m\u001b[1;33m\u001b[0m\u001b[0m\n\u001b[0;32m     23\u001b[0m \u001b[1;33m\u001b[0m\u001b[0m\n\u001b[1;32m---> 24\u001b[1;33m \u001b[1;32mclass\u001b[0m \u001b[0mSolution\u001b[0m\u001b[1;33m:\u001b[0m\u001b[1;33m\u001b[0m\u001b[1;33m\u001b[0m\u001b[0m\n\u001b[0m\u001b[0;32m     25\u001b[0m     \u001b[1;32mdef\u001b[0m \u001b[0mthreeSumMulti\u001b[0m\u001b[1;33m(\u001b[0m\u001b[0mself\u001b[0m\u001b[1;33m,\u001b[0m \u001b[0marr\u001b[0m\u001b[1;33m:\u001b[0m \u001b[0mList\u001b[0m\u001b[1;33m[\u001b[0m\u001b[0mint\u001b[0m\u001b[1;33m]\u001b[0m\u001b[1;33m,\u001b[0m \u001b[0mtarget\u001b[0m\u001b[1;33m:\u001b[0m \u001b[0mint\u001b[0m\u001b[1;33m)\u001b[0m \u001b[1;33m->\u001b[0m \u001b[0mint\u001b[0m\u001b[1;33m:\u001b[0m\u001b[1;33m\u001b[0m\u001b[1;33m\u001b[0m\u001b[0m\n\u001b[0;32m     26\u001b[0m         \u001b[0marr\u001b[0m \u001b[1;33m=\u001b[0m \u001b[0mquick_sort\u001b[0m\u001b[1;33m(\u001b[0m\u001b[0marr\u001b[0m\u001b[1;33m)\u001b[0m\u001b[1;33m\u001b[0m\u001b[1;33m\u001b[0m\u001b[0m\n",
      "\u001b[1;32m~\\AppData\\Local\\Temp/ipykernel_3972/1129072640.py\u001b[0m in \u001b[0;36mSolution\u001b[1;34m()\u001b[0m\n\u001b[0;32m     23\u001b[0m \u001b[1;33m\u001b[0m\u001b[0m\n\u001b[0;32m     24\u001b[0m \u001b[1;32mclass\u001b[0m \u001b[0mSolution\u001b[0m\u001b[1;33m:\u001b[0m\u001b[1;33m\u001b[0m\u001b[1;33m\u001b[0m\u001b[0m\n\u001b[1;32m---> 25\u001b[1;33m     \u001b[1;32mdef\u001b[0m \u001b[0mthreeSumMulti\u001b[0m\u001b[1;33m(\u001b[0m\u001b[0mself\u001b[0m\u001b[1;33m,\u001b[0m \u001b[0marr\u001b[0m\u001b[1;33m:\u001b[0m \u001b[0mList\u001b[0m\u001b[1;33m[\u001b[0m\u001b[0mint\u001b[0m\u001b[1;33m]\u001b[0m\u001b[1;33m,\u001b[0m \u001b[0mtarget\u001b[0m\u001b[1;33m:\u001b[0m \u001b[0mint\u001b[0m\u001b[1;33m)\u001b[0m \u001b[1;33m->\u001b[0m \u001b[0mint\u001b[0m\u001b[1;33m:\u001b[0m\u001b[1;33m\u001b[0m\u001b[1;33m\u001b[0m\u001b[0m\n\u001b[0m\u001b[0;32m     26\u001b[0m         \u001b[0marr\u001b[0m \u001b[1;33m=\u001b[0m \u001b[0mquick_sort\u001b[0m\u001b[1;33m(\u001b[0m\u001b[0marr\u001b[0m\u001b[1;33m)\u001b[0m\u001b[1;33m\u001b[0m\u001b[1;33m\u001b[0m\u001b[0m\n\u001b[0;32m     27\u001b[0m         \u001b[0mtimes\u001b[0m \u001b[1;33m=\u001b[0m \u001b[1;36m0\u001b[0m\u001b[1;33m\u001b[0m\u001b[1;33m\u001b[0m\u001b[0m\n",
      "\u001b[1;31mNameError\u001b[0m: name 'List' is not defined"
     ]
    }
   ],
   "source": [
    "def quick_sort(x):\n",
    "    if len(x)<=1:\n",
    "        return x\n",
    "    else:\n",
    "        mid = x[int(len(x)/2)]\n",
    "        return quick_sort([i for i in x if i<mid])+[i for i in x if i==mid]+quick_sort([i for i in x if i>mid])\n",
    "\n",
    "    \n",
    "def same_value(l, r, times, arr):\n",
    "    same_l = 1\n",
    "    same_r = 1\n",
    "    while arr[l] == arr[l+1] and l+1 < r:\n",
    "        l+=1\n",
    "        same_l += 1  #l = 3, r =1  (3+1)/2*3\n",
    "    while arr[r] == arr[r-1] and l < r-1:\n",
    "        r-=1\n",
    "        same_r += 1\n",
    "        \n",
    "    if arr[l] == arr[r] and l+1 == r:\n",
    "        return l, r, times+int((same_l+same_r)/2*same_l)\n",
    "    else:\n",
    "        return l, r, times+same_l*same_r\n",
    "\n",
    "class Solution:\n",
    "    def threeSumMulti(self, arr: List[int], target: int) -> int:\n",
    "        arr = quick_sort(arr)\n",
    "        times = 0\n",
    "        MOD = 10**9 + 7\n",
    "        for i in range(len(arr)-2):\n",
    "            l, r = i+1, len(arr)-1\n",
    "            while l<r:\n",
    "                if arr[l]+arr[r]>target-arr[i]:\n",
    "                    r-=1 \n",
    "                elif arr[l]+arr[r]<target-arr[i]:\n",
    "                    l+=1\n",
    "                else:\n",
    "                    print(i,l, r, times)\n",
    "                    l, r , times = same_value(l, r, times, arr)\n",
    "                    print(i,l, r, times)\n",
    "                    r-=1\n",
    "                    l+=1\n",
    "                    \n",
    "        return times % MOD\n",
    "                "
   ]
  }
 ],
 "metadata": {
  "kernelspec": {
   "display_name": "Python 3.9.13 64-bit (windows store)",
   "language": "python",
   "name": "python3"
  },
  "language_info": {
   "codemirror_mode": {
    "name": "ipython",
    "version": 3
   },
   "file_extension": ".py",
   "mimetype": "text/x-python",
   "name": "python",
   "nbconvert_exporter": "python",
   "pygments_lexer": "ipython3",
   "version": "3.9.13"
  },
  "orig_nbformat": 4,
  "vscode": {
   "interpreter": {
    "hash": "690a9cd710bfe942c391f90ef8534bcd8164e71864b086e08c2a2bf19a5ccfe2"
   }
  }
 },
 "nbformat": 4,
 "nbformat_minor": 2
}
