{
 "cells": [
  {
   "cell_type": "code",
   "execution_count": null,
   "metadata": {},
   "outputs": [],
   "source": [
    "class Solution:\n",
    "    def rotate(self, nums: List[int], k: int) -> None:\n",
    "        \"\"\"\n",
    "        Do not return anything, modify nums in-place instead.\n",
    "        \"\"\"\n",
    "        k = k % len(nums)\n",
    "        l = len(nums)\n",
    "        nums[:] = nums[l-k:] +nums[:l-k]"
   ]
  },
  {
   "cell_type": "code",
   "execution_count": null,
   "metadata": {},
   "outputs": [],
   "source": [
    "def reverse(s, left, right):\n",
    "    while left<right:\n",
    "        s[left], s[right] = s[right], s[left]\n",
    "        left+=1 \n",
    "        right-=1\n",
    "    return s\n",
    "\n",
    "class Solution:\n",
    "    def rotate(self, nums: List[int], k: int) -> None:\n",
    "        \"\"\"\n",
    "        Do not return anything, modify nums in-place instead.\n",
    "        \"\"\"\n",
    "        k = k % len(nums)\n",
    "        nums = reverse(nums, 0, len(nums)-1)\n",
    "        nums = reverse(nums, 0, k-1)\n",
    "        nums = reverse(nums, k, len(nums)-1)"
   ]
  }
 ],
 "metadata": {
  "kernelspec": {
   "display_name": "Python 3.9.13 64-bit (windows store)",
   "language": "python",
   "name": "python3"
  },
  "language_info": {
   "codemirror_mode": {
    "name": "ipython",
    "version": 3
   },
   "file_extension": ".py",
   "mimetype": "text/x-python",
   "name": "python",
   "nbconvert_exporter": "python",
   "pygments_lexer": "ipython3",
   "version": "3.9.13"
  },
  "orig_nbformat": 4,
  "vscode": {
   "interpreter": {
    "hash": "690a9cd710bfe942c391f90ef8534bcd8164e71864b086e08c2a2bf19a5ccfe2"
   }
  }
 },
 "nbformat": 4,
 "nbformat_minor": 2
}
