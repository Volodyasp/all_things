{
 "cells": [
  {
   "cell_type": "code",
   "execution_count": null,
   "metadata": {},
   "outputs": [],
   "source": [
    "class Solution:\n",
    "    def reverseWords(self, s: str) -> str:\n",
    "        s, st = s.split(), \"\"\n",
    "        \n",
    "        for word in s:\n",
    "            l, r = 0, len(word)-1\n",
    "            for i in range(1,len(word)+1):\n",
    "                st+=word[-i]\n",
    "            st+=' '\n",
    "            \n",
    "        return st[:-1]\n",
    "        "
   ]
  }
 ],
 "metadata": {
  "language_info": {
   "name": "python"
  },
  "orig_nbformat": 4
 },
 "nbformat": 4,
 "nbformat_minor": 2
}
