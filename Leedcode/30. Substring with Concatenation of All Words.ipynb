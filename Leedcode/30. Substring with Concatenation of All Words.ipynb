{
 "cells": [
  {
   "cell_type": "code",
   "execution_count": null,
   "metadata": {},
   "outputs": [],
   "source": [
    "class Solution:\n",
    "    def findSubstring(self, s: str, words: List[str]) -> List[int]:\n",
    "        word_size = len(words[0])\n",
    "        window_size = len(words)*word_size\n",
    "        word_hash = {}\n",
    "        ans = []\n",
    "        for word in words:\n",
    "            if word not in word_hash:\n",
    "                word_hash[word] = 1\n",
    "            else:\n",
    "                word_hash[word]+=1\n",
    "                \n",
    "        for i in range(len(s)-window_size+1):\n",
    "            window = s[i:i+window_size]\n",
    "            window_hash = {}\n",
    "            j = 0\n",
    "            while j < window_size:\n",
    "                word = window[j:j+word_size]\n",
    "                if word not in word_hash:\n",
    "                    break\n",
    "                else:\n",
    "                    if word not in window_hash: \n",
    "                        window_hash[word] = 1\n",
    "                    else:\n",
    "                        window_hash[word]+=1\n",
    "                j+=word_size\n",
    "            if window_hash == word_hash: ans.append(i)\n",
    "            \n",
    "        return ans\n",
    "                    "
   ]
  }
 ],
 "metadata": {
  "language_info": {
   "name": "python"
  },
  "orig_nbformat": 4
 },
 "nbformat": 4,
 "nbformat_minor": 2
}
