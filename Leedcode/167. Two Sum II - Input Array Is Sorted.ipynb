{
 "cells": [
  {
   "cell_type": "code",
   "execution_count": null,
   "metadata": {},
   "outputs": [],
   "source": [
    "class Solution:\n",
    "    def twoSum(self, numbers: List[int], target: int) -> List[int]:\n",
    "        left, right = 0, len(numbers)-1\n",
    "        while left < right:\n",
    "            if numbers[left]+numbers[right]>target:\n",
    "                right-=1\n",
    "            elif numbers[left]+numbers[right]<target:\n",
    "                left+=1\n",
    "            else:\n",
    "                return [left+1, right+1]"
   ]
  }
 ],
 "metadata": {
  "language_info": {
   "name": "python"
  },
  "orig_nbformat": 4
 },
 "nbformat": 4,
 "nbformat_minor": 2
}
