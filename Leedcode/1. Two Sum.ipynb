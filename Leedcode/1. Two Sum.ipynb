{
 "cells": [
  {
   "cell_type": "code",
   "execution_count": null,
   "metadata": {},
   "outputs": [],
   "source": [
    "class Solution:\n",
    "    def twoSum(self, nums: List[int], target: int) -> List[int]:\n",
    "        s = quick_sort(nums)\n",
    "        right, left = len(nums)-1, 0\n",
    "        while left<right:\n",
    "            if s[left]+s[right]>target:\n",
    "                right-=1\n",
    "            elif s[left]+s[right]<target:\n",
    "                left+=1\n",
    "            else: break\n",
    "            \n",
    "        j, ans = 0, [0,0]\n",
    "        for i in range(len(nums)):\n",
    "            if nums[i] == s[right]:\n",
    "                ans[j] = i\n",
    "                j+=1  \n",
    "            elif nums[i] == s[left]: \n",
    "                ans[j] = i\n",
    "                j+=1 \n",
    "            if j>1: break\n",
    "        return ans\n",
    "        \n",
    "        \n",
    "\n",
    "def quick_sort(s):\n",
    "    if len(s)<=1: \n",
    "        return s\n",
    "    else:\n",
    "        el = s[int(len(s)/2)]\n",
    "        less = [k for k in s if k<el]\n",
    "        same = [k for k in s if k==el]\n",
    "        more = [k for k in s if k>el]\n",
    "        return quick_sort(less)+same+quick_sort(more)\n",
    "        "
   ]
  },
  {
   "cell_type": "code",
   "execution_count": 11,
   "metadata": {},
   "outputs": [
    {
     "data": {
      "text/plain": [
       "0"
      ]
     },
     "execution_count": 11,
     "metadata": {},
     "output_type": "execute_result"
    }
   ],
   "source": [
    "class Solution: #O(nlog(n))\n",
    "    def twoSum(self, nums: List[int], target: int) -> List[int]:\n",
    "        s = quick_sort(nums) # sorting, want to use binary search\n",
    "        for i in range(len(nums)):\n",
    "            k = binary_search(s, target-nums[i]) \n",
    "            if k is not None : \n",
    "                for j in range(len(nums)):\n",
    "                    if s[k]==nums[j] and j!=i:\n",
    "                        return [i,j]\n",
    "                        break\n",
    "\n",
    "def binary_search(s, search_target):\n",
    "    right = len(s)-1\n",
    "    left = 0\n",
    "    while left <= right:\n",
    "        mid = int((left+right)/2)\n",
    "        if s[mid] < search_target:\n",
    "            left = mid+1\n",
    "        elif s[mid] > search_target:\n",
    "            right = mid-1\n",
    "        else:\n",
    "            return mid\n",
    "    return None        \n",
    "        \n",
    "def quick_sort(s):\n",
    "    if len(s)<=1: \n",
    "        return s\n",
    "    else:\n",
    "        el = s[int(len(s)/2)]\n",
    "        less = [k for k in s if k<el]\n",
    "        same = [k for k in s if k==el]\n",
    "        more = [k for k in s if k>el]\n",
    "        return quick_sort(less)+same+quick_sort(more)\n",
    "    \n",
    "    \n",
    "\n",
    "        "
   ]
  }
 ],
 "metadata": {
  "kernelspec": {
   "display_name": "Python 3.9.13 64-bit (windows store)",
   "language": "python",
   "name": "python3"
  },
  "language_info": {
   "codemirror_mode": {
    "name": "ipython",
    "version": 3
   },
   "file_extension": ".py",
   "mimetype": "text/x-python",
   "name": "python",
   "nbconvert_exporter": "python",
   "pygments_lexer": "ipython3",
   "version": "3.9.13"
  },
  "orig_nbformat": 4,
  "vscode": {
   "interpreter": {
    "hash": "690a9cd710bfe942c391f90ef8534bcd8164e71864b086e08c2a2bf19a5ccfe2"
   }
  }
 },
 "nbformat": 4,
 "nbformat_minor": 2
}
