{
 "cells": [
  {
   "cell_type": "code",
   "execution_count": null,
   "metadata": {},
   "outputs": [],
   "source": [
    "class Solution:\n",
    "    def searchInsert(self, nums: List[int], target: int) -> int:\n",
    "        l, r = 0, len(nums)-1\n",
    "        while l<=r:\n",
    "            mid = int((l+r)/2)\n",
    "            if nums[mid]>target: \n",
    "                r = mid -1 \n",
    "            elif nums[mid]<target:\n",
    "                l = mid + 1\n",
    "            else: \n",
    "                return mid\n",
    "        return l"
   ]
  }
 ],
 "metadata": {
  "language_info": {
   "name": "python"
  },
  "orig_nbformat": 4
 },
 "nbformat": 4,
 "nbformat_minor": 2
}
