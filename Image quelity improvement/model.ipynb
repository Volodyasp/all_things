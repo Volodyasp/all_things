{
 "cells": [
  {
   "attachments": {},
   "cell_type": "markdown",
   "metadata": {},
   "source": [
    "#### Generator"
   ]
  },
  {
   "attachments": {},
   "cell_type": "markdown",
   "metadata": {},
   "source": [
    "> ![SRGAN Generator](https://github.com/https-deeplearning-ai/GANs-Public/blob/master/SRGAN-Generator.png?raw=true)\n"
   ]
  },
  {
   "cell_type": "code",
   "execution_count": null,
   "metadata": {},
   "outputs": [],
   "source": [
    "class Shuffle_Block(nn.Module):\n",
    "  def __init__(self, channels = 64):\n",
    "    super().__init__()\n",
    "    self.block = nn.Sequential(\n",
    "        nn.Conv2d(in_channels = channels, out_channels =4*channels, kernel_size = 3, stride = 1, padding = 1),\n",
    "        nn.PixelShuffle(upscale_factor = 2),\n",
    "        nn.PReLU()\n",
    "    )\n",
    "\n",
    "  def forward(self, x):\n",
    "    return self.block(x) # [B, channels, W*2, H*2]"
   ]
  },
  {
   "cell_type": "code",
   "execution_count": null,
   "metadata": {},
   "outputs": [],
   "source": [
    "class Residual_Block(nn.Module):\n",
    "  def __init__(self, channels = 64):\n",
    "    super().__init__()\n",
    "    self.block = nn.Sequential(\n",
    "       nn.Conv2d(in_channels = channels, out_channels = channels, kernel_size = 3, stride = 1, padding = 1),\n",
    "       nn.BatchNorm2d(num_features = channels),\n",
    "       nn.PReLU(),\n",
    "\n",
    "       nn.Conv2d(in_channels = channels, out_channels = channels, kernel_size = 3, stride = 1, padding = 1),\n",
    "       nn.BatchNorm2d(num_features = channels),\n",
    "    )\n",
    "\n",
    "  def forward(self, x):\n",
    "    return x+self.block(x) # elementwise summ"
   ]
  },
  {
   "cell_type": "code",
   "execution_count": null,
   "metadata": {},
   "outputs": [],
   "source": [
    "class Generator(nn.Module):\n",
    "  def __init__(self, channels = 64, num_residual_blocks = 10, num_shuffle_blocks = 2 ):\n",
    "    super().__init__()\n",
    "\n",
    "    self.in_layer = nn.Sequential(\n",
    "        nn.Conv2d(in_channels = 3, out_channels = channels, kernel_size = 9, stride = 1, padding = 4),\n",
    "        nn.PReLU(),\n",
    "    )\n",
    "\n",
    "    self.mid_layer = nn.Sequential(\n",
    "        nn.Conv2d(in_channels = channels, out_channels = channels, kernel_size = 3, stride = 1, padding = 1),\n",
    "        nn.BatchNorm2d(channels)\n",
    "    )\n",
    "\n",
    "    self.end_layer = nn.Sequential(\n",
    "        nn.Conv2d(in_channels = channels, out_channels = 3, kernel_size = 9, stride = 1, padding = 4),\n",
    "        nn.Tanh()\n",
    "    )\n",
    "    \n",
    "    self.residual_blocks = []\n",
    "    for _ in range(num_residual_blocks):\n",
    "      self.residual_blocks+=[Residual_Block(channels = channels)]\n",
    "    \n",
    "    self.shuffle_blocks = []\n",
    "    for _ in range(num_shuffle_blocks):\n",
    "      self.shuffle_blocks+=[Shuffle_Block(channels = channels)]\n",
    "\n",
    "    self.residual_blocks = nn.Sequential(*self.residual_blocks)\n",
    "    self.shuffle_blocks = nn.Sequential(*self.shuffle_blocks)\n",
    "\n",
    "\n",
    "  def forward(self, x):\n",
    "    x = self.in_layer(x)\n",
    "    x = x + self.residual_blocks(x)\n",
    "    x = self.shuffle_blocks(x)\n",
    "    return self.end_layer(x)"
   ]
  },
  {
   "attachments": {},
   "cell_type": "markdown",
   "metadata": {},
   "source": [
    "#### Discriminator"
   ]
  },
  {
   "attachments": {},
   "cell_type": "markdown",
   "metadata": {},
   "source": [
    "### Discriminator\n",
    "\n",
    "\n",
    "![SRGAN Generator](https://github.com/https-deeplearning-ai/GANs-Public/blob/master/SRGAN-Discriminator.png?raw=true)\n",
    "\n",
    "\n"
   ]
  },
  {
   "cell_type": "code",
   "execution_count": null,
   "metadata": {},
   "outputs": [],
   "source": [
    "class Convolution_Blocks(nn.Module):\n",
    "  def __init__(self, channels):\n",
    "    super().__init__()\n",
    "\n",
    "    self.block = nn.Sequential(\n",
    "        nn.Conv2d(in_channels = channels, out_channels = 2*channels, kernel_size = 3, stride = 1, padding = 1),\n",
    "        nn.BatchNorm2d(2*channels),\n",
    "        nn.LeakyReLU(0.2, inplace=True),\n",
    "\n",
    "        nn.Conv2d(in_channels = 2*channels, out_channels = 2*channels, kernel_size = 3, stride = 2, padding = 1),\n",
    "        nn.BatchNorm2d(2*channels),\n",
    "        nn.LeakyReLU(0.2, inplace=True),\n",
    "    )\n",
    "\n",
    "  def forward(self, x):\n",
    "      return self.block(x)"
   ]
  },
  {
   "cell_type": "code",
   "execution_count": null,
   "metadata": {},
   "outputs": [],
   "source": [
    "class Discriminator(nn.Module):\n",
    "  def __init__(self, channels = 64, num_conv_blocks = 3):\n",
    "    super().__init__()\n",
    "\n",
    "    self.int_layer = nn.Sequential(\n",
    "        nn.Conv2d(in_channels = 3, out_channels = channels, kernel_size = 3, stride = 1),\n",
    "        nn.LeakyReLU(0.2, inplace=True),\n",
    "\n",
    "        nn.Conv2d(in_channels = channels, out_channels = channels, kernel_size = 3, stride = 2),\n",
    "        nn.BatchNorm2d(channels),\n",
    "        nn.LeakyReLU(0.2, inplace=True)\n",
    "    )\n",
    "\n",
    "    self.end_layer = nn.Sequential(\n",
    "        nn.AdaptiveAvgPool2d(2),\n",
    "        nn.Flatten(),\n",
    "        nn.Linear(in_features= channels*2**num_conv_blocks*2*2, out_features = 1024),\n",
    "        nn.LeakyReLU(0.2, inplace=True),\n",
    "\n",
    "        nn.Linear(in_features = 1024, out_features = 1),\n",
    "        nn.Sigmoid()\n",
    "        )\n",
    "    \n",
    "\n",
    "    self.conv_blocks = []\n",
    "    for i in range(num_conv_blocks):\n",
    "      self.conv_blocks+=[Convolution_Blocks(channels*2**(i))]  # 64-> 128, 128->256, 256->512 if num_conv_blocks==3\n",
    "    \n",
    "    self.conv_blocks = nn.Sequential(*self.conv_blocks)\n",
    "\n",
    "    \n",
    " \n",
    "  def forward(self, x):\n",
    "    x = self.int_layer(x)\n",
    "    x = self.conv_blocks(x)\n",
    "    x = self.end_layer(x)\n",
    "    \n",
    "    return x"
   ]
  }
 ],
 "metadata": {
  "language_info": {
   "name": "python"
  },
  "orig_nbformat": 4
 },
 "nbformat": 4,
 "nbformat_minor": 2
}
