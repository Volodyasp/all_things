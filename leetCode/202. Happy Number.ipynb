{
 "cells": [
  {
   "cell_type": "code",
   "execution_count": null,
   "metadata": {},
   "outputs": [],
   "source": [
    "def next_n(n):\n",
    "        if n<10:\n",
    "            return n**2\n",
    "        else:\n",
    "            return (n % 10)**2+next_n(n//10)\n",
    "class Solution:     \n",
    "    def isHappy(self, n: int) -> bool:\n",
    "        s = set()\n",
    "        while n not in s and 1 not in s:\n",
    "            s.add(n)\n",
    "            n = next_n(n)\n",
    "            \n",
    "        if 1 in s:\n",
    "            return True\n",
    "        else:\n",
    "            return False"
   ]
  }
 ],
 "metadata": {
  "language_info": {
   "name": "python"
  },
  "orig_nbformat": 4
 },
 "nbformat": 4,
 "nbformat_minor": 2
}
