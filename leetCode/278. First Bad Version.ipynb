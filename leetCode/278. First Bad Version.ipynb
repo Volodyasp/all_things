{
 "cells": [
  {
   "cell_type": "code",
   "execution_count": null,
   "metadata": {},
   "outputs": [],
   "source": [
    "# The isBadVersion API is already defined for you.\n",
    "# def isBadVersion(version: int) -> bool:\n",
    "\n",
    "class Solution:\n",
    "    def firstBadVersion(self, n: int) -> int:\n",
    "        l, r = 1, n\n",
    "        while l<r:\n",
    "            mid = int((l+r)/2)\n",
    "            if isBadVersion(mid):\n",
    "                r = mid\n",
    "            else:\n",
    "                l = mid + 1  \n",
    "        return r"
   ]
  }
 ],
 "metadata": {
  "language_info": {
   "name": "python"
  },
  "orig_nbformat": 4
 },
 "nbformat": 4,
 "nbformat_minor": 2
}
