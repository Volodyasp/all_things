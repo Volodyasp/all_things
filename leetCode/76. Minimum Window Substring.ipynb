{
 "cells": [
  {
   "cell_type": "code",
   "execution_count": null,
   "metadata": {},
   "outputs": [],
   "source": [
    "class Solution:\n",
    "    def minWindow(self, s: str, t: str) -> str:\n",
    "        r, l, count = 0, 0, 0\n",
    "        ans = s+' '\n",
    "        \n",
    "        words1 = dict(Counter(t))\n",
    "        words2 = {}\n",
    "        for key in words1.keys():\n",
    "            words2[key] = 0\n",
    "        \n",
    "        keys_count = len(words2)\n",
    "        \n",
    "        while r< len(s):\n",
    "            if s[r] in words1:\n",
    "                words2[s[r]] +=1\n",
    "                if  words1[s[r]] == words2[s[r]]:\n",
    "                    count +=1\n",
    "            r+=1\n",
    "            while l < r and count == keys_count:\n",
    "                if s[l] not in words1:\n",
    "                    l+=1\n",
    "                else:\n",
    "                    words2[s[l]] -= 1\n",
    "                    l+=1\n",
    "                    if words1[s[l-1]] == words2[s[l-1]]+1:\n",
    "                        count-=1\n",
    "                        if len(ans) > r-l+1:\n",
    "                             ans = s[l-1:r]\n",
    "                                \n",
    "        if len(ans) <= len(s):\n",
    "            return ans\n",
    "        else:\n",
    "            return ''"
   ]
  }
 ],
 "metadata": {
  "language_info": {
   "name": "python"
  },
  "orig_nbformat": 4
 },
 "nbformat": 4,
 "nbformat_minor": 2
}
