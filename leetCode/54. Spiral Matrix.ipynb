{
 "cells": [
  {
   "cell_type": "code",
   "execution_count": null,
   "metadata": {},
   "outputs": [],
   "source": [
    "class Solution:\n",
    "    def spiralOrder(self, matrix: List[List[int]]) -> List[int]:\n",
    "        box = [0,  len(matrix[0]), len(matrix),0]\n",
    "        ans = [0 for i in range(len(matrix)*len(matrix[0]))]\n",
    "        turn, turn_count, i = [[1,0],[0,1],[-1,0],[0,-1]], 0, 0\n",
    "        x, y =0 , 0\n",
    "        \n",
    "        while i < len(matrix)*len(matrix[0]):\n",
    "            while box[3] <= x < box[1] and  box[0]<= y < box[2]:\n",
    "                ans[i] = matrix[y][x]\n",
    "                x, y = x+turn[turn_count % 4][0], y+turn[turn_count % 4][1]\n",
    "                i+=1\n",
    "                \n",
    "                \n",
    "            x, y = x-turn[turn_count % 4][0], y-turn[turn_count % 4][1] # снова запускаем цикл\n",
    "            turn_count +=1\n",
    "            x, y = x+turn[turn_count % 4][0], y+turn[turn_count % 4][1] # избегаем повторения\n",
    "            \n",
    "            if turn_count >= 3:\n",
    "                if (turn_count-3)%4 == 0 or (turn_count-3)%4 ==3:\n",
    "                    box[(turn_count-3)%4] +=1\n",
    "                else:\n",
    "                    box[(turn_count-3)%4] -=1\n",
    "                    \n",
    "      \n",
    "        return ans"
   ]
  }
 ],
 "metadata": {
  "kernelspec": {
   "display_name": "Python 3.9.13 64-bit (windows store)",
   "language": "python",
   "name": "python3"
  },
  "language_info": {
   "codemirror_mode": {
    "name": "ipython",
    "version": 3
   },
   "file_extension": ".py",
   "mimetype": "text/x-python",
   "name": "python",
   "nbconvert_exporter": "python",
   "pygments_lexer": "ipython3",
   "version": "3.9.13"
  },
  "orig_nbformat": 4,
  "vscode": {
   "interpreter": {
    "hash": "690a9cd710bfe942c391f90ef8534bcd8164e71864b086e08c2a2bf19a5ccfe2"
   }
  }
 },
 "nbformat": 4,
 "nbformat_minor": 2
}
