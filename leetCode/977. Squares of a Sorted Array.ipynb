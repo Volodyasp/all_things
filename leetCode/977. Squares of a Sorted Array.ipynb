{
 "cells": [
  {
   "cell_type": "code",
   "execution_count": null,
   "metadata": {},
   "outputs": [],
   "source": [
    "class Solution:\n",
    "    def sortedSquares(self, nums: List[int]) -> List[int]:\n",
    "        l, r = 0, len(nums) - 1\n",
    "        s = [0 for i in range(len(nums))]\n",
    "        while l <= r:\n",
    "            if abs(nums[r]) > abs(nums[l]):\n",
    "                s[r-l] = nums[r]**2\n",
    "                r -= 1\n",
    "            else:\n",
    "                s[r-l] = nums[l]**2\n",
    "                l += 1\n",
    "        \n",
    "        return s\n",
    "\n",
    "\n",
    "             \n",
    "        "
   ]
  }
 ],
 "metadata": {
  "language_info": {
   "name": "python"
  },
  "orig_nbformat": 4
 },
 "nbformat": 4,
 "nbformat_minor": 2
}
