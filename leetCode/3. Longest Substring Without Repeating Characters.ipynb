{
 "cells": [
  {
   "cell_type": "code",
   "execution_count": null,
   "metadata": {},
   "outputs": [],
   "source": [
    "class Solution:\n",
    "    def lengthOfLongestSubstring(self, s: str) -> int:\n",
    "        l = 0\n",
    "        r = 0\n",
    "        st = set()\n",
    "        for i in s:\n",
    "            while i in st:\n",
    "                st.remove(s[l])\n",
    "                l+=1\n",
    "            st.add(i)\n",
    "            r = max(len(st), r)\n",
    "        \n",
    "        return r"
   ]
  }
 ],
 "metadata": {
  "language_info": {
   "name": "python"
  },
  "orig_nbformat": 4
 },
 "nbformat": 4,
 "nbformat_minor": 2
}
