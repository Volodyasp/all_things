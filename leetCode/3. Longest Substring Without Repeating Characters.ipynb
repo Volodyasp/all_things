{
 "cells": [
  {
   "cell_type": "code",
   "execution_count": null,
   "metadata": {},
   "outputs": [],
   "source": [
    "class Solution:\n",
    "    def lengthOfLongestSubstring(self, s: str) -> int:\n",
    "        l = 0\n",
    "        ans = 0\n",
    "        st = set()\n",
    "        for i in s:\n",
    "            while i in st:\n",
    "                st.remove(s[l])\n",
    "                l+=1\n",
    "            st.add(i)\n",
    "            ans = max(len(st), ans)\n",
    "        \n",
    "        return ans"
   ]
  },
  {
   "cell_type": "code",
   "execution_count": null,
   "metadata": {},
   "outputs": [],
   "source": [
    "class Solution:\n",
    "    def lengthOfLongestSubstring(self, s: str) -> int:\n",
    "        if not s: return 0\n",
    "\n",
    "        dct= {}\n",
    "        l, r= 0, 0\n",
    "        counter= 0\n",
    "        for r in range(len(s)):\n",
    "            if s[r] not in dct:\n",
    "                dct[s[r]]= 0\n",
    "            dct[s[r]]+= 1\n",
    "\n",
    "            counter+= (1 if dct[s[r]]== 2 else 0)\n",
    "\n",
    "            if counter>0:\n",
    "                dct[s[l]]-= 1\n",
    "                counter+= (-1 if dct[s[l]]== 1 else 0)\n",
    "                l+= 1\n",
    "\n",
    "        return r-l+1\n"
   ]
  }
 ],
 "metadata": {
  "kernelspec": {
   "display_name": "Python 3",
   "language": "python",
   "name": "python3"
  },
  "language_info": {
   "codemirror_mode": {
    "name": "ipython",
    "version": 3
   },
   "file_extension": ".py",
   "mimetype": "text/x-python",
   "name": "python",
   "nbconvert_exporter": "python",
   "pygments_lexer": "ipython3",
   "version": "3.9.13"
  },
  "orig_nbformat": 4,
  "vscode": {
   "interpreter": {
    "hash": "690a9cd710bfe942c391f90ef8534bcd8164e71864b086e08c2a2bf19a5ccfe2"
   }
  }
 },
 "nbformat": 4,
 "nbformat_minor": 2
}
