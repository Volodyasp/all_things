{
 "cells": [
  {
   "cell_type": "code",
   "execution_count": null,
   "metadata": {},
   "outputs": [],
   "source": [
    "class Solution:\n",
    "    def firstMissingPositive(self, nums: List[int]) -> int:\n",
    "        dic = dict()\n",
    "        for i in range(1,len(nums)+2):\n",
    "            dic[i] = 0\n",
    "        \n",
    "        for num in nums:\n",
    "            if num in dic:\n",
    "                dic[num] +=1\n",
    "                \n",
    "        for key in dic.keys():\n",
    "            if dic[key] == 0:\n",
    "                return key\n",
    "                break"
   ]
  },
  {
   "cell_type": "code",
   "execution_count": null,
   "metadata": {},
   "outputs": [],
   "source": []
  }
 ],
 "metadata": {
  "language_info": {
   "name": "python"
  },
  "orig_nbformat": 4
 },
 "nbformat": 4,
 "nbformat_minor": 2
}
