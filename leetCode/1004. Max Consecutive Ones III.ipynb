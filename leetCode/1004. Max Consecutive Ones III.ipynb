{
 "cells": [
  {
   "cell_type": "code",
   "execution_count": null,
   "metadata": {},
   "outputs": [],
   "source": [
    "class Solution:\n",
    "    def longestOnes(self, nums: List[int], k: int) -> int:\n",
    "        ans = 0 \n",
    "        max_ones = 0\n",
    "        l = 0\n",
    "        for r in range(len(nums)):\n",
    "            if nums[r] == 1:\n",
    "                max_ones +=1\n",
    "            \n",
    "            if (r - l + 1) - max_ones > k : \n",
    "                if nums[l] == 1:\n",
    "                    max_ones-=1\n",
    "                l+=1\n",
    "            \n",
    "            ans = max((r - l + 1), ans)\n",
    "        return ans"
   ]
  }
 ],
 "metadata": {
  "kernelspec": {
   "display_name": "Python 3.9.13 64-bit (windows store)",
   "language": "python",
   "name": "python3"
  },
  "language_info": {
   "codemirror_mode": {
    "name": "ipython",
    "version": 3
   },
   "file_extension": ".py",
   "mimetype": "text/x-python",
   "name": "python",
   "nbconvert_exporter": "python",
   "pygments_lexer": "ipython3",
   "version": "3.9.13"
  },
  "orig_nbformat": 4,
  "vscode": {
   "interpreter": {
    "hash": "690a9cd710bfe942c391f90ef8534bcd8164e71864b086e08c2a2bf19a5ccfe2"
   }
  }
 },
 "nbformat": 4,
 "nbformat_minor": 2
}
