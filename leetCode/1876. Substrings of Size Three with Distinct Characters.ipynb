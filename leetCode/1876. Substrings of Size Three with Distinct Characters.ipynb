{
 "cells": [
  {
   "cell_type": "code",
   "execution_count": null,
   "metadata": {},
   "outputs": [],
   "source": [
    "class Solution:\n",
    "    def countGoodSubstrings(self, s: str) -> int:\n",
    "        st, ans = set(), 0\n",
    "        for i in range(len(s)-2):\n",
    "            if len(set(s[i:i+3]))==3:\n",
    "                ans+=1\n",
    "            \n",
    "        return ans"
   ]
  }
 ],
 "metadata": {
  "language_info": {
   "name": "python"
  },
  "orig_nbformat": 4
 },
 "nbformat": 4,
 "nbformat_minor": 2
}
