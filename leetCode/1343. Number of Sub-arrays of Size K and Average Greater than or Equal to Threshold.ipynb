{
 "cells": [
  {
   "cell_type": "code",
   "execution_count": null,
   "metadata": {},
   "outputs": [],
   "source": [
    "class Solution:\n",
    "    def numOfSubarrays(self, arr: List[int], k: int, threshold: int) -> int:\n",
    "        sm = sum(arr[0:k])\n",
    "        threshold*=k\n",
    "        ans = 0\n",
    "        for i in range(len(arr)-k):\n",
    "            if sm >= threshold:\n",
    "                ans+=1\n",
    "            sm -= arr[i]\n",
    "            sm += arr[i+k]\n",
    "            \n",
    "        if sm>= threshold: ans+=1\n",
    "            \n",
    "        return ans"
   ]
  }
 ],
 "metadata": {
  "language_info": {
   "name": "python"
  },
  "orig_nbformat": 4
 },
 "nbformat": 4,
 "nbformat_minor": 2
}
