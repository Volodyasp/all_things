{
 "cells": [
  {
   "cell_type": "code",
   "execution_count": null,
   "metadata": {},
   "outputs": [],
   "source": [
    "class Solution:\n",
    "    def numberOfSubstrings(self, s: str) -> int:\n",
    "        words = {'a':0,'b':0,'c':0}\n",
    "        r, l, ans, len_s = 0, 0, 0, len(s)\n",
    "        \n",
    "        while r<len_s:\n",
    "            z = 0\n",
    "            words[s[r]] += 1\n",
    "            \n",
    "            while  l<r and words['a']>0 and words['b']>0 and words['c']>0:  \n",
    "                words[s[l]] -= 1\n",
    "                ans += (len_s-r)\n",
    "                l += 1\n",
    "                \n",
    "            r +=1\n",
    "        return ans\n",
    "            \n",
    "            "
   ]
  }
 ],
 "metadata": {
  "language_info": {
   "name": "python"
  },
  "orig_nbformat": 4
 },
 "nbformat": 4,
 "nbformat_minor": 2
}
