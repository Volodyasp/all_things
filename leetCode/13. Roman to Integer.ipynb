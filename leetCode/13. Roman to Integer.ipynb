{
 "cells": [
  {
   "cell_type": "code",
   "execution_count": 2,
   "metadata": {},
   "outputs": [
    {
     "name": "stdout",
     "output_type": "stream",
     "text": [
      "1004\n"
     ]
    }
   ],
   "source": [
    "class Solution:\n",
    "    def romanToInt(self, s: str) -> int:\n",
    "        rom = {\"I\":1, \"V\":5, \"X\":10, \"L\":50, \"C\":100, \"D\":500, \"M\":1000}\n",
    "        x = len(s)-1\n",
    "        sum = 0\n",
    "\n",
    "        while x >= 0:  \n",
    "            sum += rom[s[x]]\n",
    "            y = x-1\n",
    "            while  y >=0 and rom[s[y]] < rom[s[x]]:\n",
    "                sum -= rom[s[y]] \n",
    "                y -= 1\n",
    "\n",
    "            x = y\n",
    "        \n",
    "        return sum"
   ]
  },
  {
   "cell_type": "code",
   "execution_count": null,
   "metadata": {},
   "outputs": [],
   "source": [
    "class Solution:\n",
    "    def romanToInt(self, s: str) -> int:\n",
    "        dct= {\"I\":1, \"V\":5, \"X\":10, \"L\":50, \"C\":100, \"D\":500, \"M\":1000}\n",
    "        x= len(s)-1\n",
    "        point, ans= dct[s[-1]], 0\n",
    "\n",
    "        while x>=0:\n",
    "            item= dct[s[x]]\n",
    "\n",
    "            if item== point:\n",
    "                ans+= item\n",
    "            elif item< point:\n",
    "                ans-= item\n",
    "            else:\n",
    "                point= item\n",
    "                ans+= point\n",
    "                \n",
    "            x-= 1\n",
    "        \n",
    "        return ans"
   ]
  },
  {
   "cell_type": "code",
   "execution_count": null,
   "metadata": {},
   "outputs": [],
   "source": [
    "class Solution:\n",
    "    def romanToInt(self, s: str) -> int:\n",
    "        if len(s) == 0: return 0  \n",
    "        dct= {'I':1, 'V':5, 'X':10, 'L':50, 'C':100, 'D':500, 'M':1000}\n",
    "        ans, savepoint, savepoint_value= 0, s[0], 0\n",
    "\n",
    "        for item in s:\n",
    "            if item== savepoint:\n",
    "                savepoint_value+= dct[item]\n",
    "            elif dct[item]<dct[savepoint]: # XXII\n",
    "                ans+= savepoint_value\n",
    "                savepoint, savepoint_value= item, dct[item]\n",
    "            else: # IIIX встретили X \n",
    "                ans-= savepoint_value\n",
    "                savepoint, savepoint_value= item, dct[item]\n",
    "        ans+= savepoint_value\n",
    "\n",
    "        return ans\n"
   ]
  }
 ],
 "metadata": {
  "kernelspec": {
   "display_name": "Python 3.9.13 64-bit (windows store)",
   "language": "python",
   "name": "python3"
  },
  "language_info": {
   "codemirror_mode": {
    "name": "ipython",
    "version": 3
   },
   "file_extension": ".py",
   "mimetype": "text/x-python",
   "name": "python",
   "nbconvert_exporter": "python",
   "pygments_lexer": "ipython3",
   "version": "3.9.13"
  },
  "orig_nbformat": 4,
  "vscode": {
   "interpreter": {
    "hash": "690a9cd710bfe942c391f90ef8534bcd8164e71864b086e08c2a2bf19a5ccfe2"
   }
  }
 },
 "nbformat": 4,
 "nbformat_minor": 2
}
