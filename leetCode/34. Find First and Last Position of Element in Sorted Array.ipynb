{
 "cells": [
  {
   "cell_type": "code",
   "execution_count": null,
   "metadata": {},
   "outputs": [],
   "source": [
    "class Solution:\n",
    "    def searchRange(self, nums: List[int], target: int) -> List[int]:\n",
    "        l, r, ans = 0, len(nums) - 1, [-1, -1]\n",
    "        while l<=r: \n",
    "            mid = int((l+r)/2)\n",
    "            if nums[mid] < target:\n",
    "                l = mid + 1\n",
    "            elif nums[mid]>target:\n",
    "                r = mid - 1\n",
    "            else:\n",
    "                ans[0] = mid\n",
    "                r = mid - 1\n",
    "                \n",
    "        l, r= 0, len(nums) - 1\n",
    "        while l<=r: \n",
    "            mid = int((l+r)/2)\n",
    "            print(l, r, mid)\n",
    "            if nums[mid] < target:\n",
    "                l = mid + 1\n",
    "            elif nums[mid]>target:\n",
    "                r = mid - 1\n",
    "            else:\n",
    "                ans[1] = mid\n",
    "                l = mid + 1\n",
    "                \n",
    "        return ans "
   ]
  }
 ],
 "metadata": {
  "language_info": {
   "name": "python"
  },
  "orig_nbformat": 4
 },
 "nbformat": 4,
 "nbformat_minor": 2
}
