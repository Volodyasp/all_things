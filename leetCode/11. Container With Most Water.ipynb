{
 "cells": [
  {
   "cell_type": "code",
   "execution_count": null,
   "metadata": {},
   "outputs": [],
   "source": [
    "def step(height, r, l):\n",
    "    if height[r]<height[l]:\n",
    "        return l, r-1\n",
    "    else:\n",
    "        return l+1, r\n",
    "\n",
    "\n",
    "class Solution:\n",
    "    def maxArea(self, height: List[int]) -> int:\n",
    "        s, l, r =0, 0, len(height)-1\n",
    "        while l<r:\n",
    "            s = max(s, min(height[l], height[r])*(r-l) )\n",
    "            l, r = step(height, r, l)\n",
    "        return s "
   ]
  }
 ],
 "metadata": {
  "language_info": {
   "name": "python"
  },
  "orig_nbformat": 4
 },
 "nbformat": 4,
 "nbformat_minor": 2
}
