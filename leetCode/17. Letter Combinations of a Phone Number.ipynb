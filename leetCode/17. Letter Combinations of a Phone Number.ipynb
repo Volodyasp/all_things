{
 "cells": [
  {
   "cell_type": "code",
   "execution_count": null,
   "metadata": {},
   "outputs": [],
   "source": [
    "class Solution:\n",
    "    def letterCombinations(self, digits: str) -> List[str]:\n",
    "        dic = {'2':['a','b','c'],'3':['d','e','f'],'4':['g','h','i'],'5':['j','k','l'],'6':['m','n','o'],'7':['p','q','r','s'],'8':['t','u','v'],'9':['w','x','y','z']}\n",
    "        \n",
    "        if len(digits)==0:\n",
    "            return []\n",
    "        elif len(digits)==1:\n",
    "            return dic[digits]\n",
    "        else:\n",
    "            out = dic[digits[0]]   \n",
    "            for dig in digits[1:]:\n",
    "                temp = []\n",
    "                for o in out:\n",
    "                    for let in dic[dig]:\n",
    "                        temp.append(o+let)\n",
    "                out = temp\n",
    "            \n",
    "            return out\n",
    "                      \n",
    "        "
   ]
  }
 ],
 "metadata": {
  "language_info": {
   "name": "python"
  },
  "orig_nbformat": 4
 },
 "nbformat": 4,
 "nbformat_minor": 2
}
