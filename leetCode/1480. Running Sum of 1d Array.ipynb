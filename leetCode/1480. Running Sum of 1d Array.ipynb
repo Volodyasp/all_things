{
 "cells": [
  {
   "cell_type": "code",
   "execution_count": null,
   "metadata": {},
   "outputs": [],
   "source": [
    "class Solution:\n",
    "    def runningSum(self, nums: List[int]) -> List[int]:\n",
    "        ans = [0 for i in range(len(nums))]\n",
    "        ans[0] = nums[0]\n",
    "        for i in range(1, len(nums)):\n",
    "            ans[i] = nums[i] + ans[i-1]\n",
    "        return ans\n",
    "            \n",
    "            "
   ]
  }
 ],
 "metadata": {
  "language_info": {
   "name": "python"
  },
  "orig_nbformat": 4
 },
 "nbformat": 4,
 "nbformat_minor": 2
}
