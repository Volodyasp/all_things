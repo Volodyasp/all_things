{
 "cells": [
  {
   "cell_type": "code",
   "execution_count": null,
   "metadata": {},
   "outputs": [],
   "source": [
    "class Solution:\n",
    "    def pivotIndex(self, nums: List[int]) -> int:\n",
    "        sr, sl = sum(nums), 0        \n",
    "        for i in range(len(nums)):\n",
    "            sr -= nums[i]\n",
    "            if sr == sl:\n",
    "                return i\n",
    "                break\n",
    "            sl += nums[i]\n",
    "        \n",
    "        return -1\n",
    "        "
   ]
  }
 ],
 "metadata": {
  "language_info": {
   "name": "python"
  },
  "orig_nbformat": 4
 },
 "nbformat": 4,
 "nbformat_minor": 2
}
