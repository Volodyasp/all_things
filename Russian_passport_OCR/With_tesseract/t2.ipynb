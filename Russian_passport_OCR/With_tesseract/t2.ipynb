{
 "cells": [
  {
   "cell_type": "code",
   "execution_count": 2,
   "metadata": {},
   "outputs": [
    {
     "name": "stderr",
     "output_type": "stream",
     "text": [
      "ERROR: Could not find a version that satisfies the requirement pySmartIdEngine (from versions: none)\n",
      "ERROR: No matching distribution found for pySmartIdEngine\n",
      "WARNING: You are using pip version 21.3.1; however, version 22.3.1 is available.\n",
      "You should consider upgrading via the 'C:\\Users\\xiaom\\AppData\\Local\\Microsoft\\WindowsApps\\PythonSoftwareFoundation.Python.3.9_qbz5n2kfra8p0\\python.exe -m pip install --upgrade pip' command.\n"
     ]
    }
   ],
   "source": [
    "!pip install pySmartIdEngine"
   ]
  },
  {
   "cell_type": "code",
   "execution_count": null,
   "metadata": {},
   "outputs": [],
   "source": [
    "# Подключаем python-интерфейс библиотеки распознавания\n",
    "import pySmartIdEngine as se \n",
    "\n",
    "# Путь к файлу конфигурации\n",
    "smartid_config_path = 'bundle_mock_smart_idreader.zip' \n",
    "\n",
    "# Создаем движок распознавания, лучше сделать один раз и держать в памяти\n",
    "smartid_engine = se.RecognitionEngine(smartid_config_path) "
   ]
  },
  {
   "cell_type": "code",
   "execution_count": null,
   "metadata": {},
   "outputs": [],
   "source": [
    "def recognize_image_file(smartid_engine, image_file_path):\n",
    "    # Получаем настройки по умолчанию и включаем нужные типы документов\n",
    "    session_settings = smartid_engine.CreateSessionSettings()\n",
    "    session_settings.AddEnabledDocumentTypes('rus.passport.national')\n",
    "\n",
    "    # Создаем сессию распознавания\n",
    "    session = smartid_engine.SpawnSession(session_settings)\n",
    "\n",
    "    # Распознаем изображение\n",
    "    result = session.ProcessImageFile(image_file_path)\n",
    "\n",
    "    # Конвертируем распознанные строковые поля в dict\n",
    "    recognized_fields = {}\n",
    "    for field_name in result.GetStringFieldNames():\n",
    "        field = result.GetStringField(field_name)\n",
    "        recognized_fields[field_name] = field.GetValue().GetUtf8String()\n",
    "\n",
    "    # Возвращаем строковое JSON-представление распознанных полей\n",
    "    return json.dumps(recognized_fields, ensure_ascii=False, indent=2)"
   ]
  }
 ],
 "metadata": {
  "kernelspec": {
   "display_name": "Python 3",
   "language": "python",
   "name": "python3"
  },
  "language_info": {
   "codemirror_mode": {
    "name": "ipython",
    "version": 3
   },
   "file_extension": ".py",
   "mimetype": "text/x-python",
   "name": "python",
   "nbconvert_exporter": "python",
   "pygments_lexer": "ipython3",
   "version": "3.9.13"
  },
  "orig_nbformat": 4,
  "vscode": {
   "interpreter": {
    "hash": "690a9cd710bfe942c391f90ef8534bcd8164e71864b086e08c2a2bf19a5ccfe2"
   }
  }
 },
 "nbformat": 4,
 "nbformat_minor": 2
}
